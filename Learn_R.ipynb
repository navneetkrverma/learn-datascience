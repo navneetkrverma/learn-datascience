{
 "cells": [
  {
   "cell_type": "markdown",
   "metadata": {
    "toc": true
   },
   "source": [
    "<h1>Table of Contents<span class=\"tocSkip\"></span></h1>\n",
    "<div class=\"toc\"><ul class=\"toc-item\"><li><span><a href=\"#Introduction-to-R\" data-toc-modified-id=\"Introduction-to-R-1\"><span class=\"toc-item-num\">1&nbsp;&nbsp;</span>Introduction to R</a></span><ul class=\"toc-item\"><li><span><a href=\"#About\" data-toc-modified-id=\"About-1.1\"><span class=\"toc-item-num\">1.1&nbsp;&nbsp;</span>About</a></span></li><li><span><a href=\"#Licensing\" data-toc-modified-id=\"Licensing-1.2\"><span class=\"toc-item-num\">1.2&nbsp;&nbsp;</span>Licensing</a></span></li><li><span><a href=\"#Features-of-R\" data-toc-modified-id=\"Features-of-R-1.3\"><span class=\"toc-item-num\">1.3&nbsp;&nbsp;</span>Features of R</a></span></li></ul></li><li><span><a href=\"#Installation\" data-toc-modified-id=\"Installation-2\"><span class=\"toc-item-num\">2&nbsp;&nbsp;</span>Installation</a></span><ul class=\"toc-item\"><li><span><a href=\"#R-Installation:\" data-toc-modified-id=\"R-Installation:-2.1\"><span class=\"toc-item-num\">2.1&nbsp;&nbsp;</span>R Installation:</a></span></li><li><span><a href=\"#Install-packge\" data-toc-modified-id=\"Install-packge-2.2\"><span class=\"toc-item-num\">2.2&nbsp;&nbsp;</span>Install packge</a></span></li></ul></li><li><span><a href=\"#R-IDEs\" data-toc-modified-id=\"R-IDEs-3\"><span class=\"toc-item-num\">3&nbsp;&nbsp;</span>R IDEs</a></span><ul class=\"toc-item\"><li><span><a href=\"#R-App\" data-toc-modified-id=\"R-App-3.1\"><span class=\"toc-item-num\">3.1&nbsp;&nbsp;</span>R App</a></span></li><li><span><a href=\"#RStudio\" data-toc-modified-id=\"RStudio-3.2\"><span class=\"toc-item-num\">3.2&nbsp;&nbsp;</span>RStudio</a></span><ul class=\"toc-item\"><li><span><a href=\"#Usage\" data-toc-modified-id=\"Usage-3.2.1\"><span class=\"toc-item-num\">3.2.1&nbsp;&nbsp;</span>Usage</a></span></li></ul></li><li><span><a href=\"#Jupyter-Notebook\" data-toc-modified-id=\"Jupyter-Notebook-3.3\"><span class=\"toc-item-num\">3.3&nbsp;&nbsp;</span>Jupyter Notebook</a></span></li></ul></li><li><span><a href=\"#Getting-Started-with-R\" data-toc-modified-id=\"Getting-Started-with-R-4\"><span class=\"toc-item-num\">4&nbsp;&nbsp;</span>Getting Started with R</a></span><ul class=\"toc-item\"><li><span><a href=\"#Help\" data-toc-modified-id=\"Help-4.1\"><span class=\"toc-item-num\">4.1&nbsp;&nbsp;</span>Help</a></span></li><li><span><a href=\"#Comments\" data-toc-modified-id=\"Comments-4.2\"><span class=\"toc-item-num\">4.2&nbsp;&nbsp;</span>Comments</a></span></li><li><span><a href=\"#Variables\" data-toc-modified-id=\"Variables-4.3\"><span class=\"toc-item-num\">4.3&nbsp;&nbsp;</span>Variables</a></span></li><li><span><a href=\"#Data-Types\" data-toc-modified-id=\"Data-Types-4.4\"><span class=\"toc-item-num\">4.4&nbsp;&nbsp;</span>Data Types</a></span></li><li><span><a href=\"#Operators\" data-toc-modified-id=\"Operators-4.5\"><span class=\"toc-item-num\">4.5&nbsp;&nbsp;</span>Operators</a></span><ul class=\"toc-item\"><li><span><a href=\"#Arithmetic-Operators\" data-toc-modified-id=\"Arithmetic-Operators-4.5.1\"><span class=\"toc-item-num\">4.5.1&nbsp;&nbsp;</span>Arithmetic Operators</a></span></li><li><span><a href=\"#Relational-Operators\" data-toc-modified-id=\"Relational-Operators-4.5.2\"><span class=\"toc-item-num\">4.5.2&nbsp;&nbsp;</span>Relational Operators</a></span></li><li><span><a href=\"#Logical-Operators\" data-toc-modified-id=\"Logical-Operators-4.5.3\"><span class=\"toc-item-num\">4.5.3&nbsp;&nbsp;</span>Logical Operators</a></span></li><li><span><a href=\"#Assignment-Operators\" data-toc-modified-id=\"Assignment-Operators-4.5.4\"><span class=\"toc-item-num\">4.5.4&nbsp;&nbsp;</span>Assignment Operators</a></span></li><li><span><a href=\"#Miscellaneous-Operators\" data-toc-modified-id=\"Miscellaneous-Operators-4.5.5\"><span class=\"toc-item-num\">4.5.5&nbsp;&nbsp;</span>Miscellaneous Operators</a></span></li></ul></li><li><span><a href=\"#Built-In-Functions\" data-toc-modified-id=\"Built-In-Functions-4.6\"><span class=\"toc-item-num\">4.6&nbsp;&nbsp;</span>Built-In Functions</a></span></li><li><span><a href=\"#Vector\" data-toc-modified-id=\"Vector-4.7\"><span class=\"toc-item-num\">4.7&nbsp;&nbsp;</span>Vector</a></span><ul class=\"toc-item\"><li><span><a href=\"#Vector-Creation\" data-toc-modified-id=\"Vector-Creation-4.7.1\"><span class=\"toc-item-num\">4.7.1&nbsp;&nbsp;</span>Vector Creation</a></span><ul class=\"toc-item\"><li><span><a href=\"#Single-Element-Vector\" data-toc-modified-id=\"Single-Element-Vector-4.7.1.1\"><span class=\"toc-item-num\">4.7.1.1&nbsp;&nbsp;</span>Single Element Vector</a></span></li><li><span><a href=\"#Multiple-Elements-Vector\" data-toc-modified-id=\"Multiple-Elements-Vector-4.7.1.2\"><span class=\"toc-item-num\">4.7.1.2&nbsp;&nbsp;</span>Multiple Elements Vector</a></span></li></ul></li><li><span><a href=\"#Vector-Operations\" data-toc-modified-id=\"Vector-Operations-4.7.2\"><span class=\"toc-item-num\">4.7.2&nbsp;&nbsp;</span>Vector Operations</a></span><ul class=\"toc-item\"><li><span><a href=\"#Access-vector-elements\" data-toc-modified-id=\"Access-vector-elements-4.7.2.1\"><span class=\"toc-item-num\">4.7.2.1&nbsp;&nbsp;</span>Access vector elements</a></span></li><li><span><a href=\"#Vector-Manipulation\" data-toc-modified-id=\"Vector-Manipulation-4.7.2.2\"><span class=\"toc-item-num\">4.7.2.2&nbsp;&nbsp;</span>Vector Manipulation</a></span></li></ul></li></ul></li><li><span><a href=\"#Swirl\" data-toc-modified-id=\"Swirl-4.8\"><span class=\"toc-item-num\">4.8&nbsp;&nbsp;</span>Swirl</a></span></li><li><span><a href=\"#Factors\" data-toc-modified-id=\"Factors-4.9\"><span class=\"toc-item-num\">4.9&nbsp;&nbsp;</span>Factors</a></span><ul class=\"toc-item\"><li><span><a href=\"#Create-Factor\" data-toc-modified-id=\"Create-Factor-4.9.1\"><span class=\"toc-item-num\">4.9.1&nbsp;&nbsp;</span>Create Factor</a></span></li><li><span><a href=\"#Change-order-of-levels\" data-toc-modified-id=\"Change-order-of-levels-4.9.2\"><span class=\"toc-item-num\">4.9.2&nbsp;&nbsp;</span>Change order of levels</a></span></li><li><span><a href=\"#Generating-Factor-Levels\" data-toc-modified-id=\"Generating-Factor-Levels-4.9.3\"><span class=\"toc-item-num\">4.9.3&nbsp;&nbsp;</span>Generating Factor Levels</a></span></li></ul></li><li><span><a href=\"#Matrix\" data-toc-modified-id=\"Matrix-4.10\"><span class=\"toc-item-num\">4.10&nbsp;&nbsp;</span>Matrix</a></span><ul class=\"toc-item\"><li><span><a href=\"#Create-Matrix\" data-toc-modified-id=\"Create-Matrix-4.10.1\"><span class=\"toc-item-num\">4.10.1&nbsp;&nbsp;</span>Create Matrix</a></span></li></ul></li><li><span><a href=\"#DataFrame\" data-toc-modified-id=\"DataFrame-4.11\"><span class=\"toc-item-num\">4.11&nbsp;&nbsp;</span>DataFrame</a></span><ul class=\"toc-item\"><li><span><a href=\"#Create-Dataframe\" data-toc-modified-id=\"Create-Dataframe-4.11.1\"><span class=\"toc-item-num\">4.11.1&nbsp;&nbsp;</span>Create Dataframe</a></span></li><li><span><a href=\"#Structure-of-Dataframe/Object\" data-toc-modified-id=\"Structure-of-Dataframe/Object-4.11.2\"><span class=\"toc-item-num\">4.11.2&nbsp;&nbsp;</span>Structure of Dataframe/Object</a></span></li><li><span><a href=\"#Summary-of-Dataframe/Object\" data-toc-modified-id=\"Summary-of-Dataframe/Object-4.11.3\"><span class=\"toc-item-num\">4.11.3&nbsp;&nbsp;</span>Summary of Dataframe/Object</a></span></li><li><span><a href=\"#Access-data-from-Dataframe\" data-toc-modified-id=\"Access-data-from-Dataframe-4.11.4\"><span class=\"toc-item-num\">4.11.4&nbsp;&nbsp;</span>Access data from Dataframe</a></span></li><li><span><a href=\"#Expand-Data-Frame\" data-toc-modified-id=\"Expand-Data-Frame-4.11.5\"><span class=\"toc-item-num\">4.11.5&nbsp;&nbsp;</span>Expand Data Frame</a></span><ul class=\"toc-item\"><li><span><a href=\"#Add-Column\" data-toc-modified-id=\"Add-Column-4.11.5.1\"><span class=\"toc-item-num\">4.11.5.1&nbsp;&nbsp;</span>Add Column</a></span></li><li><span><a href=\"#Add-Row\" data-toc-modified-id=\"Add-Row-4.11.5.2\"><span class=\"toc-item-num\">4.11.5.2&nbsp;&nbsp;</span>Add Row</a></span></li></ul></li></ul></li></ul></li></ul></div>"
   ]
  },
  {
   "cell_type": "markdown",
   "metadata": {},
   "source": [
    "#  Introduction to R\n",
    "\n",
    "## About\n",
    "- R is a programming language for statistical analysis, graphics representation and reporting.\n",
    "- created by **Ross Ihaka** and **Robert Gentleman**\n",
    "- The core of R is **an interpreted computer language**. \n",
    "- Integrates well with the procedures written in the C, C++, .Net, Python or FORTRAN languages\n",
    "- R is designed for data Analysts. Data analyst = Statistics + Programmer\n",
    "\n",
    "## Licensing\n",
    "- Open source (GNU General Public License)\n",
    "\n",
    "## Features of R\n",
    "1. Effective **data handling and storage facility**\n",
    "2. Provides well-versed **tools for data analysis & statistics**.\n",
    "3. Provides **graphical facilities** for data analysis"
   ]
  },
  {
   "cell_type": "code",
   "execution_count": null,
   "metadata": {},
   "outputs": [],
   "source": []
  },
  {
   "cell_type": "markdown",
   "metadata": {},
   "source": [
    "# Installation\n",
    "You need language interpreter and ide for any lang. R comes with default console (GUI) but that is not as rich as other IDEs (Rstudio).\n",
    "\n",
    "## R Installation:\n",
    "1. Using CRAN website [Comprehensive R Archive Network]\n",
    "\t1. download pkg file (mac) from https://cran.r-project.org/\n",
    "\t2. install r using system package manager.\n",
    "2. Using Conda\n",
    "\t1. With Anaconda, you can easily install the R programming language and over 6,000 commonly used R packages for data science. You can also create and share your own custom R packages.\n",
    "    \n",
    "## Install packge\n",
    "go to r console and type : `install.packages(\"package_name\")`. Example\n",
    "> `install.packages(\"swirl\")`\n",
    "\n",
    "- To use the packages, you have type `library(package_name)` on r consolge and execute to import the functions of library.\n",
    "- Example\n",
    "    - `library(swirl)` "
   ]
  },
  {
   "cell_type": "markdown",
   "metadata": {},
   "source": [
    "# R IDEs\n",
    "## R App\n",
    "> this gets installed by default when you install R (GUI). However it gets only console where you can run only REPL, run scripts, install libraries etc.\n",
    "\n",
    "## RStudio\n",
    "R studio is morre rich IDE. To install R, Download the R-Studio from R-Studio website.\n",
    "### Usage\n",
    "- If you see + sign in command line, that means, previous command is incomplete and you have to add details to the line where + appeared.\n",
    "- If you want to discard a command, press `Esc` key\n",
    "- Auto complete, enter key and press tab to check the autocomplete options.\n",
    "- Hit `command+enter` to execute any line in R-script\n",
    "\n",
    "## Jupyter Notebook\n",
    "To install R on jupyter, please follow below steps:\n",
    "1. Install R\n",
    "2. Open R Terminal & execute below statements\n",
    "3. Install R libraries\n",
    "> `install.packages(c(\n",
    "'repr',\n",
    "'IRdisplay',\n",
    "'evaluate',\n",
    "'crayon',\n",
    "'pbdZMQ',\n",
    "'devtools',\n",
    "'uuid',\n",
    "'digest',\n",
    "'git2r'\n",
    "), dependencies = TRUE)`\n",
    "4. install the R package. devtools::install_github allows you to install packages from Github.\n",
    "> devtools::install_github('IRkernel/IRkernel')\n",
    "6. Install the Interactive R kernel system-wide.\n",
    "> IRkernel::installspec(user = FALSE)\n",
    "7. Run Notebook\n",
    "> jupyter notebook\n",
    "\n",
    "[Reference](https://www.chrisjmendez.com/2018/12/04/configure-jupyter-notebook-to-work-with-r/)\n"
   ]
  },
  {
   "cell_type": "markdown",
   "metadata": {},
   "source": [
    "# Getting Started with R\n",
    "\n",
    "## Help\n",
    "- use ?function_name or help(function_name) to see documentation.\n",
    "-- Example:\n",
    "`?log`\n",
    "`help(log10)`"
   ]
  },
  {
   "cell_type": "code",
   "execution_count": 3,
   "metadata": {},
   "outputs": [],
   "source": [
    "?log"
   ]
  },
  {
   "cell_type": "code",
   "execution_count": 4,
   "metadata": {},
   "outputs": [],
   "source": [
    "help(log10)"
   ]
  },
  {
   "cell_type": "markdown",
   "metadata": {},
   "source": [
    "## Comments\n",
    "- Only Single Line Comment supported\n",
    "- No support multiline comments support"
   ]
  },
  {
   "cell_type": "code",
   "execution_count": 5,
   "metadata": {},
   "outputs": [],
   "source": [
    "# Testing comment"
   ]
  },
  {
   "cell_type": "markdown",
   "metadata": {},
   "source": [
    "## Variables\n",
    "- Names can be of any length\n",
    "- A variable can not begin with number.\n",
    "- Names are case sensitive"
   ]
  },
  {
   "cell_type": "code",
   "execution_count": 76,
   "metadata": {},
   "outputs": [
    {
     "data": {
      "text/html": [
       "1"
      ],
      "text/latex": [
       "1"
      ],
      "text/markdown": [
       "1"
      ],
      "text/plain": [
       "[1] 1"
      ]
     },
     "metadata": {},
     "output_type": "display_data"
    }
   ],
   "source": [
    "variable=1\n",
    "variable"
   ]
  },
  {
   "cell_type": "code",
   "execution_count": 78,
   "metadata": {},
   "outputs": [
    {
     "data": {
      "text/html": [
       "<style>\n",
       ".list-inline {list-style: none; margin:0; padding: 0}\n",
       ".list-inline>li {display: inline-block}\n",
       ".list-inline>li:not(:last-child)::after {content: \"\\00b7\"; padding: 0 .5ex}\n",
       "</style>\n",
       "<ol class=list-inline><li>'a'</li><li>'add.v'</li><li>'added_vector'</li><li>'b'</li><li>'divi.result'</li><li>'multi.result'</li><li>'my_vector'</li><li>'my_vector1'</li><li>'my_vector2'</li><li>'revsort.result'</li><li>'s'</li><li>'sort.result'</li><li>'sub.result'</li><li>'t'</li><li>'u'</li><li>'v'</li><li>'v1'</li><li>'v2'</li><li>'v3'</li><li>'val'</li><li>'variable'</li><li>'x'</li><li>'y'</li></ol>\n"
      ],
      "text/latex": [
       "\\begin{enumerate*}\n",
       "\\item 'a'\n",
       "\\item 'add.v'\n",
       "\\item 'added\\_vector'\n",
       "\\item 'b'\n",
       "\\item 'divi.result'\n",
       "\\item 'multi.result'\n",
       "\\item 'my\\_vector'\n",
       "\\item 'my\\_vector1'\n",
       "\\item 'my\\_vector2'\n",
       "\\item 'revsort.result'\n",
       "\\item 's'\n",
       "\\item 'sort.result'\n",
       "\\item 'sub.result'\n",
       "\\item 't'\n",
       "\\item 'u'\n",
       "\\item 'v'\n",
       "\\item 'v1'\n",
       "\\item 'v2'\n",
       "\\item 'v3'\n",
       "\\item 'val'\n",
       "\\item 'variable'\n",
       "\\item 'x'\n",
       "\\item 'y'\n",
       "\\end{enumerate*}\n"
      ],
      "text/markdown": [
       "1. 'a'\n",
       "2. 'add.v'\n",
       "3. 'added_vector'\n",
       "4. 'b'\n",
       "5. 'divi.result'\n",
       "6. 'multi.result'\n",
       "7. 'my_vector'\n",
       "8. 'my_vector1'\n",
       "9. 'my_vector2'\n",
       "10. 'revsort.result'\n",
       "11. 's'\n",
       "12. 'sort.result'\n",
       "13. 'sub.result'\n",
       "14. 't'\n",
       "15. 'u'\n",
       "16. 'v'\n",
       "17. 'v1'\n",
       "18. 'v2'\n",
       "19. 'v3'\n",
       "20. 'val'\n",
       "21. 'variable'\n",
       "22. 'x'\n",
       "23. 'y'\n",
       "\n",
       "\n"
      ],
      "text/plain": [
       " [1] \"a\"              \"add.v\"          \"added_vector\"   \"b\"             \n",
       " [5] \"divi.result\"    \"multi.result\"   \"my_vector\"      \"my_vector1\"    \n",
       " [9] \"my_vector2\"     \"revsort.result\" \"s\"              \"sort.result\"   \n",
       "[13] \"sub.result\"     \"t\"              \"u\"              \"v\"             \n",
       "[17] \"v1\"             \"v2\"             \"v3\"             \"val\"           \n",
       "[21] \"variable\"       \"x\"              \"y\"             "
      ]
     },
     "metadata": {},
     "output_type": "display_data"
    }
   ],
   "source": [
    "#to see all variables in your workspace\n",
    "ls()"
   ]
  },
  {
   "cell_type": "code",
   "execution_count": 82,
   "metadata": {},
   "outputs": [
    {
     "data": {
      "text/html": [],
      "text/latex": [],
      "text/markdown": [],
      "text/plain": [
       "character(0)"
      ]
     },
     "metadata": {},
     "output_type": "display_data"
    }
   ],
   "source": [
    "# to clean the variables in your workspace\n",
    "rm(list=ls())\n",
    "ls()"
   ]
  },
  {
   "cell_type": "code",
   "execution_count": 84,
   "metadata": {},
   "outputs": [
    {
     "data": {
      "text/html": [
       "<style>\n",
       ".list-inline {list-style: none; margin:0; padding: 0}\n",
       ".list-inline>li {display: inline-block}\n",
       ".list-inline>li:not(:last-child)::after {content: \"\\00b7\"; padding: 0 .5ex}\n",
       "</style>\n",
       "<ol class=list-inline><li>FALSE</li><li>FALSE</li><li>FALSE</li><li>TRUE</li><li>FALSE</li><li>TRUE</li></ol>\n"
      ],
      "text/latex": [
       "\\begin{enumerate*}\n",
       "\\item FALSE\n",
       "\\item FALSE\n",
       "\\item FALSE\n",
       "\\item TRUE\n",
       "\\item FALSE\n",
       "\\item TRUE\n",
       "\\end{enumerate*}\n"
      ],
      "text/markdown": [
       "1. FALSE\n",
       "2. FALSE\n",
       "3. FALSE\n",
       "4. TRUE\n",
       "5. FALSE\n",
       "6. TRUE\n",
       "\n",
       "\n"
      ],
      "text/plain": [
       "[1] FALSE FALSE FALSE  TRUE FALSE  TRUE"
      ]
     },
     "metadata": {},
     "output_type": "display_data"
    }
   ],
   "source": [
    "# Used when data set contains unknown variables!\n",
    "my_vector2 <- c(1, 3, 5, NA, 7, NA)\n",
    "is.na(my_vector2)"
   ]
  },
  {
   "cell_type": "markdown",
   "metadata": {},
   "source": [
    "## Data Types\n",
    "- R has 3 fundamental dt, apart from those three, rest all are objects.\n",
    "\t- Numeric: [7,5]\n",
    "\t\t- There are two types of numeric data types:\n",
    "\t\t\t- integer: [2]\n",
    "\t\t\t- double: [2.4]\n",
    "\t\t- If you write x=2, r stores x as double.\n",
    "\t- Character: [\"test\", \"a\"]\n",
    "\t\t- character strings cannot be added mathematically. For example \"my\"+\"class\" with throw error in R but will pass in python.\n",
    "\t- Boolean: [True/False]\n",
    "\t\t- T refers to TRUE and F refers to FALSE in R\n",
    "- You can use class(variable_name) or typeof(variable_name) to know the type of  variable."
   ]
  },
  {
   "cell_type": "markdown",
   "metadata": {},
   "source": [
    "Question: How to determine type of a variable?"
   ]
  },
  {
   "cell_type": "code",
   "execution_count": 28,
   "metadata": {},
   "outputs": [
    {
     "data": {
      "text/html": [
       "'character'"
      ],
      "text/latex": [
       "'character'"
      ],
      "text/markdown": [
       "'character'"
      ],
      "text/plain": [
       "[1] \"character\""
      ]
     },
     "metadata": {},
     "output_type": "display_data"
    }
   ],
   "source": [
    "typeof(\"apple\")"
   ]
  },
  {
   "cell_type": "code",
   "execution_count": 29,
   "metadata": {},
   "outputs": [
    {
     "data": {
      "text/html": [
       "'numeric'"
      ],
      "text/latex": [
       "'numeric'"
      ],
      "text/markdown": [
       "'numeric'"
      ],
      "text/plain": [
       "[1] \"numeric\""
      ]
     },
     "metadata": {},
     "output_type": "display_data"
    }
   ],
   "source": [
    "class(2)"
   ]
  },
  {
   "cell_type": "markdown",
   "metadata": {},
   "source": [
    "## Operators\n",
    "There are 5 types of operators in R\n",
    "### Arithmetic Operators\n",
    "+, -, *, /,  %%, ^, **"
   ]
  },
  {
   "cell_type": "code",
   "execution_count": 10,
   "metadata": {},
   "outputs": [
    {
     "data": {
      "text/html": [
       "13"
      ],
      "text/latex": [
       "13"
      ],
      "text/markdown": [
       "13"
      ],
      "text/plain": [
       "[1] 13"
      ]
     },
     "metadata": {},
     "output_type": "display_data"
    },
    {
     "data": {
      "text/html": [
       "3"
      ],
      "text/latex": [
       "3"
      ],
      "text/markdown": [
       "3"
      ],
      "text/plain": [
       "[1] 3"
      ]
     },
     "metadata": {},
     "output_type": "display_data"
    },
    {
     "data": {
      "text/html": [
       "18"
      ],
      "text/latex": [
       "18"
      ],
      "text/markdown": [
       "18"
      ],
      "text/plain": [
       "[1] 18"
      ]
     },
     "metadata": {},
     "output_type": "display_data"
    },
    {
     "data": {
      "text/html": [
       "4.5"
      ],
      "text/latex": [
       "4.5"
      ],
      "text/markdown": [
       "4.5"
      ],
      "text/plain": [
       "[1] 4.5"
      ]
     },
     "metadata": {},
     "output_type": "display_data"
    },
    {
     "data": {
      "text/html": [
       "81"
      ],
      "text/latex": [
       "81"
      ],
      "text/markdown": [
       "81"
      ],
      "text/plain": [
       "[1] 81"
      ]
     },
     "metadata": {},
     "output_type": "display_data"
    },
    {
     "data": {
      "text/html": [
       "81"
      ],
      "text/latex": [
       "81"
      ],
      "text/markdown": [
       "81"
      ],
      "text/plain": [
       "[1] 81"
      ]
     },
     "metadata": {},
     "output_type": "display_data"
    },
    {
     "data": {
      "text/html": [
       "1"
      ],
      "text/latex": [
       "1"
      ],
      "text/markdown": [
       "1"
      ],
      "text/plain": [
       "[1] 1"
      ]
     },
     "metadata": {},
     "output_type": "display_data"
    }
   ],
   "source": [
    "8 + 5      #Addition\n",
    "8 - 5      #Subtraction\n",
    "9 * 2      #Multiplication\n",
    "9/2        #Division\n",
    "9^2        #Exponentiation\n",
    "9**2       #Exponentiation\n",
    "9%%2       #Modulo"
   ]
  },
  {
   "cell_type": "markdown",
   "metadata": {},
   "source": [
    "### Relational Operators\n",
    "<, >, ==, <=, >=, !="
   ]
  },
  {
   "cell_type": "code",
   "execution_count": 11,
   "metadata": {},
   "outputs": [
    {
     "data": {
      "text/html": [
       "TRUE"
      ],
      "text/latex": [
       "TRUE"
      ],
      "text/markdown": [
       "TRUE"
      ],
      "text/plain": [
       "[1] TRUE"
      ]
     },
     "metadata": {},
     "output_type": "display_data"
    },
    {
     "data": {
      "text/html": [
       "FALSE"
      ],
      "text/latex": [
       "FALSE"
      ],
      "text/markdown": [
       "FALSE"
      ],
      "text/plain": [
       "[1] FALSE"
      ]
     },
     "metadata": {},
     "output_type": "display_data"
    },
    {
     "data": {
      "text/html": [
       "TRUE"
      ],
      "text/latex": [
       "TRUE"
      ],
      "text/markdown": [
       "TRUE"
      ],
      "text/plain": [
       "[1] TRUE"
      ]
     },
     "metadata": {},
     "output_type": "display_data"
    },
    {
     "data": {
      "text/html": [
       "TRUE"
      ],
      "text/latex": [
       "TRUE"
      ],
      "text/markdown": [
       "TRUE"
      ],
      "text/plain": [
       "[1] TRUE"
      ]
     },
     "metadata": {},
     "output_type": "display_data"
    },
    {
     "data": {
      "text/html": [
       "FALSE"
      ],
      "text/latex": [
       "FALSE"
      ],
      "text/markdown": [
       "FALSE"
      ],
      "text/plain": [
       "[1] FALSE"
      ]
     },
     "metadata": {},
     "output_type": "display_data"
    },
    {
     "data": {
      "text/html": [
       "TRUE"
      ],
      "text/latex": [
       "TRUE"
      ],
      "text/markdown": [
       "TRUE"
      ],
      "text/plain": [
       "[1] TRUE"
      ]
     },
     "metadata": {},
     "output_type": "display_data"
    }
   ],
   "source": [
    "8 > 7\n",
    "8 < 7\n",
    "8 == 8\n",
    "8 >= 8\n",
    "8 <=7\n",
    "8 != 9\n"
   ]
  },
  {
   "cell_type": "markdown",
   "metadata": {},
   "source": [
    "### Logical Operators\n",
    "(element wise and)&, (element wise or)|, !, &&, ||\n",
    "\n",
    "- to compare vectors, vector should be of same size else it will throw error"
   ]
  },
  {
   "cell_type": "code",
   "execution_count": 12,
   "metadata": {},
   "outputs": [
    {
     "data": {
      "text/html": [
       "<style>\n",
       ".list-inline {list-style: none; margin:0; padding: 0}\n",
       ".list-inline>li {display: inline-block}\n",
       ".list-inline>li:not(:last-child)::after {content: \"\\00b7\"; padding: 0 .5ex}\n",
       "</style>\n",
       "<ol class=list-inline><li>TRUE</li><li>TRUE</li><li>TRUE</li><li>TRUE</li></ol>\n"
      ],
      "text/latex": [
       "\\begin{enumerate*}\n",
       "\\item TRUE\n",
       "\\item TRUE\n",
       "\\item TRUE\n",
       "\\item TRUE\n",
       "\\end{enumerate*}\n"
      ],
      "text/markdown": [
       "1. TRUE\n",
       "2. TRUE\n",
       "3. TRUE\n",
       "4. TRUE\n",
       "\n",
       "\n"
      ],
      "text/plain": [
       "[1] TRUE TRUE TRUE TRUE"
      ]
     },
     "metadata": {},
     "output_type": "display_data"
    },
    {
     "data": {
      "text/html": [
       "<style>\n",
       ".list-inline {list-style: none; margin:0; padding: 0}\n",
       ".list-inline>li {display: inline-block}\n",
       ".list-inline>li:not(:last-child)::after {content: \"\\00b7\"; padding: 0 .5ex}\n",
       "</style>\n",
       "<ol class=list-inline><li>TRUE</li><li>TRUE</li><li>FALSE</li><li>TRUE</li></ol>\n"
      ],
      "text/latex": [
       "\\begin{enumerate*}\n",
       "\\item TRUE\n",
       "\\item TRUE\n",
       "\\item FALSE\n",
       "\\item TRUE\n",
       "\\end{enumerate*}\n"
      ],
      "text/markdown": [
       "1. TRUE\n",
       "2. TRUE\n",
       "3. FALSE\n",
       "4. TRUE\n",
       "\n",
       "\n"
      ],
      "text/plain": [
       "[1]  TRUE  TRUE FALSE  TRUE"
      ]
     },
     "metadata": {},
     "output_type": "display_data"
    },
    {
     "data": {
      "text/html": [
       "<style>\n",
       ".list-inline {list-style: none; margin:0; padding: 0}\n",
       ".list-inline>li {display: inline-block}\n",
       ".list-inline>li:not(:last-child)::after {content: \"\\00b7\"; padding: 0 .5ex}\n",
       "</style>\n",
       "<ol class=list-inline><li>FALSE</li><li>FALSE</li><li>FALSE</li><li>FALSE</li></ol>\n"
      ],
      "text/latex": [
       "\\begin{enumerate*}\n",
       "\\item FALSE\n",
       "\\item FALSE\n",
       "\\item FALSE\n",
       "\\item FALSE\n",
       "\\end{enumerate*}\n"
      ],
      "text/markdown": [
       "1. FALSE\n",
       "2. FALSE\n",
       "3. FALSE\n",
       "4. FALSE\n",
       "\n",
       "\n"
      ],
      "text/plain": [
       "[1] FALSE FALSE FALSE FALSE"
      ]
     },
     "metadata": {},
     "output_type": "display_data"
    },
    {
     "data": {
      "text/html": [
       "TRUE"
      ],
      "text/latex": [
       "TRUE"
      ],
      "text/markdown": [
       "TRUE"
      ],
      "text/plain": [
       "[1] TRUE"
      ]
     },
     "metadata": {},
     "output_type": "display_data"
    },
    {
     "data": {
      "text/html": [
       "TRUE"
      ],
      "text/latex": [
       "TRUE"
      ],
      "text/markdown": [
       "TRUE"
      ],
      "text/plain": [
       "[1] TRUE"
      ]
     },
     "metadata": {},
     "output_type": "display_data"
    }
   ],
   "source": [
    "c(3,1,T,2+3i) | c(3,1,F,2+3i)    #element wise logical or\n",
    "c(3,1,T,2+3i) & c(3,1,F,2+3i)    #element wise logical and\n",
    "!c(3,1,T,2+3i)                   #logical not which gives opposite logical value\n",
    "c(3,1,T,2+3i) || c(3,1,F,2+3i)    #logical or, takes first value and perform or\n",
    "c(3,1,T,2+3i) && c(3,1,F,2+3i)    #logical and, takes first value and perform and"
   ]
  },
  {
   "cell_type": "markdown",
   "metadata": {},
   "source": [
    "### Assignment Operators\n",
    "- Left assignment\n",
    "\t- <-, =, <<-\n",
    "- Right assignment\n",
    "\t- ->, ->>"
   ]
  },
  {
   "cell_type": "code",
   "execution_count": 13,
   "metadata": {},
   "outputs": [
    {
     "name": "stdout",
     "output_type": "stream",
     "text": [
      "[1] 3+0i 1+0i 1+0i 2+3i\n",
      "[1] 3+0i 1+0i 1+0i 2+3i\n",
      "[1] 3+0i 1+0i 1+0i 2+3i\n",
      "[1] 3+0i 1+0i 1+0i 2+3i\n",
      "[1] 3+0i 1+0i 1+0i 2+3i\n"
     ]
    }
   ],
   "source": [
    "#### Left assignment operator\n",
    "v1 <- c(3,1,TRUE,2+3i)\n",
    "v2 <<- c(3,1,TRUE,2+3i)\n",
    "v3 = c(3,1,TRUE,2+3i)\n",
    "print(v1)\n",
    "print(v2)\n",
    "print(v3)\n",
    "#### Right assignment operator\n",
    "c(3,1,TRUE,2+3i) -> v1\n",
    "c(3,1,TRUE,2+3i) ->> v2 \n",
    "print(v1)\n",
    "print(v2)"
   ]
  },
  {
   "cell_type": "markdown",
   "metadata": {},
   "source": [
    "### Miscellaneous Operators\n",
    ":, %in%, %*%"
   ]
  },
  {
   "cell_type": "code",
   "execution_count": 14,
   "metadata": {},
   "outputs": [
    {
     "name": "stdout",
     "output_type": "stream",
     "text": [
      "[1] 2 3 4 5 6 7 8\n",
      "[1] TRUE\n",
      "[1] TRUE\n"
     ]
    }
   ],
   "source": [
    "#### Colon Operator: creates series of nums in seq for vector.\n",
    "v <- 2:8\n",
    "print(v)\n",
    "#### %in% : identify if an element belongs to a vector, returns T/F\n",
    "print(2 %in% v)\n",
    "#### %*% : to multiply a matrix with its transpose\n",
    "print(2 %in% v)"
   ]
  },
  {
   "cell_type": "markdown",
   "metadata": {},
   "source": [
    "## Built-In Functions\n",
    "- abs(-2.3)\n",
    "- exp(3)\n",
    "- sqrt(4)\n",
    "- sin(10)\n",
    "- cos(1.572)"
   ]
  },
  {
   "cell_type": "code",
   "execution_count": 176,
   "metadata": {},
   "outputs": [
    {
     "data": {
      "text/html": [
       "3"
      ],
      "text/latex": [
       "3"
      ],
      "text/markdown": [
       "3"
      ],
      "text/plain": [
       "[1] 3"
      ]
     },
     "metadata": {},
     "output_type": "display_data"
    }
   ],
   "source": [
    "# generate Random number\n",
    "rn = sample(1:4, 1)\n",
    "rn"
   ]
  },
  {
   "cell_type": "markdown",
   "metadata": {},
   "source": [
    "## Vector\n",
    "- Datasets have rows and columns. In R, **datasets are frequently stored as vectors** which are sequences of elements of **the same data type** (numeric, character etc.)\n",
    "- Vectors are the most basic R data objects and there are **six types of atomic vectors**.\n",
    "    - logical\n",
    "    - integer\n",
    "    - double\n",
    "    - complex\n",
    "    - character\n",
    "    - raw."
   ]
  },
  {
   "cell_type": "markdown",
   "metadata": {},
   "source": [
    "### Vector Creation\n",
    "#### Single Element Vector\n",
    "- Even when you write just one value in R, it becomes a vector of length 1 and belongs to one of the above vector "
   ]
  },
  {
   "cell_type": "code",
   "execution_count": 16,
   "metadata": {},
   "outputs": [
    {
     "name": "stdout",
     "output_type": "stream",
     "text": [
      "[1] \"abc\"\n",
      "[1] 12.5\n",
      "[1] 63\n",
      "[1] TRUE\n",
      "[1] 2+3i\n",
      "[1] 68 65 6c 6c 6f\n"
     ]
    }
   ],
   "source": [
    "# Atomic vector of type character.\n",
    "print(\"abc\");\n",
    "\n",
    "# Atomic vector of type double.\n",
    "print(12.5)\n",
    "\n",
    "# Atomic vector of type integer.\n",
    "print(63L)\n",
    "\n",
    "# Atomic vector of type logical.\n",
    "print(TRUE)\n",
    "\n",
    "# Atomic vector of type complex.\n",
    "print(2+3i)\n",
    "\n",
    "# Atomic vector of type raw.\n",
    "print(charToRaw('hello'))"
   ]
  },
  {
   "cell_type": "markdown",
   "metadata": {},
   "source": [
    "#### Multiple Elements Vector"
   ]
  },
  {
   "cell_type": "code",
   "execution_count": 21,
   "metadata": {},
   "outputs": [
    {
     "name": "stdout",
     "output_type": "stream",
     "text": [
      "[1]  5  6  7  8  9 10 11 12 13\n",
      "[1]  6.6  7.6  8.6  9.6 10.6 11.6 12.6\n",
      "[1]  3.8  4.8  5.8  6.8  7.8  8.8  9.8 10.8\n"
     ]
    }
   ],
   "source": [
    "# Using colon operator with numeric data\n",
    "# Creating a sequence from 5 to 13.\n",
    "v <- 5:13\n",
    "print(v)\n",
    "\n",
    "# Creating a sequence from 6.6 to 12.6.\n",
    "v <- 6.6:12.6\n",
    "print(v)\n",
    "\n",
    "# If the final element specified does not belong to the sequence then it is discarded.\n",
    "v <- 3.8:11.4\n",
    "print(v)"
   ]
  },
  {
   "cell_type": "code",
   "execution_count": 23,
   "metadata": {},
   "outputs": [
    {
     "name": "stdout",
     "output_type": "stream",
     "text": [
      " [1] 5.0 5.4 5.8 6.2 6.6 7.0 7.4 7.8 8.2 8.6 9.0\n"
     ]
    }
   ],
   "source": [
    "# Using sequence (Seq.) operator\n",
    "# Create vector with elements from 5 to 9 incrementing by 0.4.\n",
    "v <<- seq(5, 9, by = 0.4)\n",
    "print(v)"
   ]
  },
  {
   "cell_type": "code",
   "execution_count": 30,
   "metadata": {},
   "outputs": [
    {
     "name": "stdout",
     "output_type": "stream",
     "text": [
      "[1] \"apple\" \"red\"   \"5\"     \"TRUE\" \n"
     ]
    },
    {
     "data": {
      "text/html": [
       "'character'"
      ],
      "text/latex": [
       "'character'"
      ],
      "text/markdown": [
       "'character'"
      ],
      "text/plain": [
       "[1] \"character\""
      ]
     },
     "metadata": {},
     "output_type": "display_data"
    }
   ],
   "source": [
    "# Using the c() function\n",
    "# c is shorthand for combine\n",
    "\n",
    "# The non-character values are coerced to character type if\n",
    "# one of the elements is a character.\n",
    "\n",
    "s <- c('apple','red',5,TRUE)\n",
    "print(s)\n",
    "typeof(s)"
   ]
  },
  {
   "cell_type": "markdown",
   "metadata": {},
   "source": [
    "> Vector stores same data type, if you try to convert different data types, in to most generic. This type of conversion is called Coercion.\n",
    "**coercion hierarchy: boolean < numeric < character**"
   ]
  },
  {
   "cell_type": "code",
   "execution_count": 32,
   "metadata": {},
   "outputs": [
    {
     "data": {
      "text/html": [
       "'character'"
      ],
      "text/latex": [
       "'character'"
      ],
      "text/markdown": [
       "'character'"
      ],
      "text/plain": [
       "[1] \"character\""
      ]
     },
     "metadata": {},
     "output_type": "display_data"
    },
    {
     "data": {
      "text/html": [
       "'numeric'"
      ],
      "text/latex": [
       "'numeric'"
      ],
      "text/markdown": [
       "'numeric'"
      ],
      "text/plain": [
       "[1] \"numeric\""
      ]
     },
     "metadata": {},
     "output_type": "display_data"
    },
    {
     "data": {
      "text/html": [
       "'logical'"
      ],
      "text/latex": [
       "'logical'"
      ],
      "text/markdown": [
       "'logical'"
      ],
      "text/plain": [
       "[1] \"logical\""
      ]
     },
     "metadata": {},
     "output_type": "display_data"
    },
    {
     "data": {
      "text/html": [
       "'numeric'"
      ],
      "text/latex": [
       "'numeric'"
      ],
      "text/markdown": [
       "'numeric'"
      ],
      "text/plain": [
       "[1] \"numeric\""
      ]
     },
     "metadata": {},
     "output_type": "display_data"
    }
   ],
   "source": [
    "class(c(FALSE, 3, \"twelve\"))\n",
    "#[1] \"character\"\n",
    "class(c(FALSE, 3))\n",
    "#[1] \"numeric\"\n",
    "class(c(FALSE))\n",
    "#[1] \"logical\"\n",
    "class(c(FALSE, 2.0, 2))\n",
    "#[1] \"numeric\""
   ]
  },
  {
   "cell_type": "markdown",
   "metadata": {},
   "source": [
    "### Vector Operations\n",
    "#### Access vector elements\n",
    "Elements of a Vector are accessed using indexing. The [ ] brackets are used for indexing. Indexing starts with position 1. Giving a negative value in the index drops that element from result.TRUE, FALSE or 0 and 1 can also be used for indexing."
   ]
  },
  {
   "cell_type": "code",
   "execution_count": 45,
   "metadata": {},
   "outputs": [
    {
     "data": {
      "text/html": [
       "9"
      ],
      "text/latex": [
       "9"
      ],
      "text/markdown": [
       "9"
      ],
      "text/plain": [
       "[1] 9"
      ]
     },
     "metadata": {},
     "output_type": "display_data"
    }
   ],
   "source": [
    "my_vector <- c(3, 8, 9, 10)\n",
    "# Accessing 3rd element of my_vector\n",
    "my_vector[3]"
   ]
  },
  {
   "cell_type": "code",
   "execution_count": 44,
   "metadata": {},
   "outputs": [
    {
     "data": {
      "text/html": [
       "<style>\n",
       ".list-inline {list-style: none; margin:0; padding: 0}\n",
       ".list-inline>li {display: inline-block}\n",
       ".list-inline>li:not(:last-child)::after {content: \"\\00b7\"; padding: 0 .5ex}\n",
       "</style>\n",
       "<ol class=list-inline><li>8</li><li>9</li><li>10</li></ol>\n"
      ],
      "text/latex": [
       "\\begin{enumerate*}\n",
       "\\item 8\n",
       "\\item 9\n",
       "\\item 10\n",
       "\\end{enumerate*}\n"
      ],
      "text/markdown": [
       "1. 8\n",
       "2. 9\n",
       "3. 10\n",
       "\n",
       "\n"
      ],
      "text/plain": [
       "[1]  8  9 10"
      ]
     },
     "metadata": {},
     "output_type": "display_data"
    }
   ],
   "source": [
    "# Accessing last 3 elements of my_vector; using sequences, sequence is \n",
    "# Inclusive of both values.\n",
    "my_vector[2:4]\n",
    "# index begins from 1 in R than 0."
   ]
  },
  {
   "cell_type": "code",
   "execution_count": 46,
   "metadata": {},
   "outputs": [
    {
     "data": {
      "text/html": [
       "<style>\n",
       ".list-inline {list-style: none; margin:0; padding: 0}\n",
       ".list-inline>li {display: inline-block}\n",
       ".list-inline>li:not(:last-child)::after {content: \"\\00b7\"; padding: 0 .5ex}\n",
       "</style>\n",
       "<ol class=list-inline><li>3</li><li>8</li><li>10</li></ol>\n"
      ],
      "text/latex": [
       "\\begin{enumerate*}\n",
       "\\item 3\n",
       "\\item 8\n",
       "\\item 10\n",
       "\\end{enumerate*}\n"
      ],
      "text/markdown": [
       "1. 3\n",
       "2. 8\n",
       "3. 10\n",
       "\n",
       "\n"
      ],
      "text/plain": [
       "[1]  3  8 10"
      ]
     },
     "metadata": {},
     "output_type": "display_data"
    }
   ],
   "source": [
    "# Stripping\n",
    "# Stripping means just not printing some elements. Original Vector remains the same\n",
    "my_vector[-3]\n",
    "#[1]  3  8 10\n",
    "#Returns all elements other than 3rd elements"
   ]
  },
  {
   "cell_type": "code",
   "execution_count": 48,
   "metadata": {},
   "outputs": [
    {
     "name": "stdout",
     "output_type": "stream",
     "text": [
      "[1] \"Sun\" \"Tue\" \"Wed\" \"Fri\" \"Sat\"\n"
     ]
    }
   ],
   "source": [
    "# strip multiple elements\n",
    "# Accessing vector elements using negative indexing.\n",
    "x <- t[c(-2,-5)]\n",
    "print(x)"
   ]
  },
  {
   "cell_type": "code",
   "execution_count": 49,
   "metadata": {},
   "outputs": [
    {
     "name": "stdout",
     "output_type": "stream",
     "text": [
      "[1] \"Mon\" \"Tue\" \"Fri\"\n"
     ]
    }
   ],
   "source": [
    "# Accessing vector elements using position.\n",
    "t <- c(\"Sun\",\"Mon\",\"Tue\",\"Wed\",\"Thurs\",\"Fri\",\"Sat\")\n",
    "u <- t[c(2,3,6)]\n",
    "print(u)"
   ]
  },
  {
   "cell_type": "code",
   "execution_count": 51,
   "metadata": {},
   "outputs": [
    {
     "name": "stdout",
     "output_type": "stream",
     "text": [
      "[1] \"Sun\" \"Fri\"\n",
      "[1] \"Sun\"\n"
     ]
    }
   ],
   "source": [
    "# Accessing vector elements using logical indexing.\n",
    "v <- t[c(TRUE,FALSE,FALSE,FALSE,FALSE,TRUE,FALSE)]\n",
    "print(v)\n",
    "\n",
    "# Accessing vector elements using 0/1 indexing.\n",
    "y <- t[c(0,0,0,0,0,0,1)]\n",
    "print(y)"
   ]
  },
  {
   "cell_type": "markdown",
   "metadata": {},
   "source": [
    "#### Vector Manipulation\n",
    "##### Vector arithmetic\n",
    "Two vectors of same length can be\n",
    "- added,\n",
    "- subtracted,\n",
    "- multiplied,\n",
    "- divided\n",
    "<br/>giving the result as a vector output."
   ]
  },
  {
   "cell_type": "code",
   "execution_count": 55,
   "metadata": {},
   "outputs": [
    {
     "data": {
      "text/html": [
       "<style>\n",
       ".list-inline {list-style: none; margin:0; padding: 0}\n",
       ".list-inline>li {display: inline-block}\n",
       ".list-inline>li:not(:last-child)::after {content: \"\\00b7\"; padding: 0 .5ex}\n",
       "</style>\n",
       "<ol class=list-inline><li>3</li><li>7</li><li>11</li><li>15</li></ol>\n"
      ],
      "text/latex": [
       "\\begin{enumerate*}\n",
       "\\item 3\n",
       "\\item 7\n",
       "\\item 11\n",
       "\\item 15\n",
       "\\end{enumerate*}\n"
      ],
      "text/markdown": [
       "1. 3\n",
       "2. 7\n",
       "3. 11\n",
       "4. 15\n",
       "\n",
       "\n"
      ],
      "text/plain": [
       "[1]  3  7 11 15"
      ]
     },
     "metadata": {},
     "output_type": "display_data"
    },
    {
     "name": "stdout",
     "output_type": "stream",
     "text": [
      "[1]  3  7 11 15\n"
     ]
    }
   ],
   "source": [
    "# add two vector [same length]\n",
    "my_vector1 <- c(1,3,5,7)\n",
    "my_vector2 <- c(2,4,6,8)\n",
    "added_vector <- my_vector1 + my_vector2\n",
    "added_vector\n",
    "\n",
    "add.v <- my_vector1 + my_vector2\n",
    "print(add.v)"
   ]
  },
  {
   "cell_type": "code",
   "execution_count": 54,
   "metadata": {},
   "outputs": [
    {
     "data": {
      "text/html": [
       "<style>\n",
       ".list-inline {list-style: none; margin:0; padding: 0}\n",
       ".list-inline>li {display: inline-block}\n",
       ".list-inline>li:not(:last-child)::after {content: \"\\00b7\"; padding: 0 .5ex}\n",
       "</style>\n",
       "<ol class=list-inline><li>8</li><li>16</li><li>17</li><li>17</li></ol>\n"
      ],
      "text/latex": [
       "\\begin{enumerate*}\n",
       "\\item 8\n",
       "\\item 16\n",
       "\\item 17\n",
       "\\item 17\n",
       "\\end{enumerate*}\n"
      ],
      "text/markdown": [
       "1. 8\n",
       "2. 16\n",
       "3. 17\n",
       "4. 17\n",
       "\n",
       "\n"
      ],
      "text/plain": [
       "[1]  8 16 17 17"
      ]
     },
     "metadata": {},
     "output_type": "display_data"
    }
   ],
   "source": [
    "# add more than 2 vector [same length]\n",
    "v1 <- c(1,3,5,7)\n",
    "v2 <- c(2,4,6,8)\n",
    "v3 <- c(5,9,6,2)\n",
    "added_vector <- v1 + v2 + v3\n",
    "added_vector"
   ]
  },
  {
   "cell_type": "markdown",
   "metadata": {},
   "source": [
    "##### Arithmetic on different/unequal length vectors\n",
    ">When you add/sub/multiply/divide 2 vectors of different length, R gets the equal length vector by repeating the same elements of vector and returns the output.\n",
    "This is termed as **Vector Element Recycling**"
   ]
  },
  {
   "cell_type": "code",
   "execution_count": 70,
   "metadata": {},
   "outputs": [
    {
     "name": "stdout",
     "output_type": "stream",
     "text": [
      "[1]  7 19  6  9 11 13\n"
     ]
    }
   ],
   "source": [
    "v1 <- c(3,8,4,5,0,11)\n",
    "v2 <- c(4,11,2)\n",
    "print(v1+v2)\n",
    "# v2 is expanded as c(4,11,4,11,4,11)"
   ]
  },
  {
   "cell_type": "code",
   "execution_count": 71,
   "metadata": {},
   "outputs": [
    {
     "name": "stderr",
     "output_type": "stream",
     "text": [
      "Warning message in v1 + v2:\n",
      "“longer object length is not a multiple of shorter object length”\n"
     ]
    },
    {
     "name": "stdout",
     "output_type": "stream",
     "text": [
      "[1]  7 19  6  9 11 13 16\n"
     ]
    }
   ],
   "source": [
    "v1 <- c(3,8,4,5,0,11,12)\n",
    "v2 <- c(4,11,2)\n",
    "print(v1+v2)\n",
    "# v2 is expanded as c(4,11,4,11,4,11)"
   ]
  },
  {
   "cell_type": "code",
   "execution_count": 59,
   "metadata": {},
   "outputs": [
    {
     "name": "stdout",
     "output_type": "stream",
     "text": [
      "[1] -1 -3  4 -3 -1  9\n",
      "[1] 12 88  0 40  0 22\n",
      "[1] 0.7500000 0.7272727       Inf 0.6250000 0.0000000 5.5000000\n"
     ]
    }
   ],
   "source": [
    "v1 <- c(3,8,4,5,0,11)\n",
    "v2 <- c(4,11,0,8,1,2)\n",
    "\n",
    "# Vector subtraction.\n",
    "sub.result <- v1-v2\n",
    "print(sub.result)\n",
    "\n",
    "# Vector multiplication.\n",
    "multi.result <- v1*v2\n",
    "print(multi.result)\n",
    "\n",
    "# Vector division.\n",
    "divi.result <- v1/v2\n",
    "print(divi.result)"
   ]
  },
  {
   "cell_type": "code",
   "execution_count": 60,
   "metadata": {},
   "outputs": [
    {
     "data": {
      "text/html": [
       "1"
      ],
      "text/latex": [
       "1"
      ],
      "text/markdown": [
       "1"
      ],
      "text/plain": [
       "[1] 1"
      ]
     },
     "metadata": {},
     "output_type": "display_data"
    },
    {
     "data": {
      "text/html": [
       "<style>\n",
       ".list-inline {list-style: none; margin:0; padding: 0}\n",
       ".list-inline>li {display: inline-block}\n",
       ".list-inline>li:not(:last-child)::after {content: \"\\00b7\"; padding: 0 .5ex}\n",
       "</style>\n",
       "<ol class=list-inline><li>1</li><li>3</li><li>5</li><li>7</li></ol>\n"
      ],
      "text/latex": [
       "\\begin{enumerate*}\n",
       "\\item 1\n",
       "\\item 3\n",
       "\\item 5\n",
       "\\item 7\n",
       "\\end{enumerate*}\n"
      ],
      "text/markdown": [
       "1. 1\n",
       "2. 3\n",
       "3. 5\n",
       "4. 7\n",
       "\n",
       "\n"
      ],
      "text/plain": [
       "[1] 1 3 5 7"
      ]
     },
     "metadata": {},
     "output_type": "display_data"
    }
   ],
   "source": [
    "#Applying functions on Vectors\n",
    "my_vector1 <- c(1,3,5,7)\n",
    "min(my_vector1)\n",
    "sort(my_vector1)        "
   ]
  },
  {
   "cell_type": "markdown",
   "metadata": {},
   "source": [
    "##### Vector Element Sorting\n",
    "use **sort()** function"
   ]
  },
  {
   "cell_type": "code",
   "execution_count": 61,
   "metadata": {},
   "outputs": [
    {
     "name": "stdout",
     "output_type": "stream",
     "text": [
      "[1]  -9   0   3   4   5   8  11 304\n"
     ]
    }
   ],
   "source": [
    "v <- c(3,8,4,5,0,11, -9, 304)\n",
    "\n",
    "# Sort the elements of the vector.\n",
    "sort.result <- sort(v)\n",
    "print(sort.result)"
   ]
  },
  {
   "cell_type": "code",
   "execution_count": 62,
   "metadata": {},
   "outputs": [
    {
     "name": "stdout",
     "output_type": "stream",
     "text": [
      "[1] 304  11   8   5   4   3   0  -9\n"
     ]
    }
   ],
   "source": [
    "# Sort the elements in the reverse order.\n",
    "revsort.result <- sort(v, decreasing = TRUE)\n",
    "print(revsort.result)"
   ]
  },
  {
   "cell_type": "code",
   "execution_count": 64,
   "metadata": {},
   "outputs": [
    {
     "name": "stdout",
     "output_type": "stream",
     "text": [
      "[1] \"Blue\"   \"Red\"    \"violet\" \"yellow\"\n"
     ]
    }
   ],
   "source": [
    "# Sorting character vectors. (Natural Order Sort)\n",
    "v <- c(\"Red\",\"Blue\",\"yellow\",\"violet\")\n",
    "sort.result <- sort(v)\n",
    "print(sort.result)"
   ]
  },
  {
   "cell_type": "code",
   "execution_count": 65,
   "metadata": {},
   "outputs": [
    {
     "name": "stdout",
     "output_type": "stream",
     "text": [
      "[1] \"yellow\" \"violet\" \"Red\"    \"Blue\"  \n"
     ]
    }
   ],
   "source": [
    "# Sorting character vectors in reverse order.\n",
    "revsort.result <- sort(v, decreasing = TRUE)\n",
    "print(revsort.result)"
   ]
  },
  {
   "cell_type": "markdown",
   "metadata": {},
   "source": [
    "**Assignment**\n",
    "\n",
    "Create vectors a = c(2 ,6, 3) and b = c(4, 3, 5, 7) on R console.\n",
    "What is the result of multiplication of a and b?"
   ]
  },
  {
   "cell_type": "code",
   "execution_count": 66,
   "metadata": {},
   "outputs": [
    {
     "name": "stderr",
     "output_type": "stream",
     "text": [
      "Warning message in a * b:\n",
      "“longer object length is not a multiple of shorter object length”\n"
     ]
    },
    {
     "data": {
      "text/html": [
       "<style>\n",
       ".list-inline {list-style: none; margin:0; padding: 0}\n",
       ".list-inline>li {display: inline-block}\n",
       ".list-inline>li:not(:last-child)::after {content: \"\\00b7\"; padding: 0 .5ex}\n",
       "</style>\n",
       "<ol class=list-inline><li>8</li><li>18</li><li>15</li><li>14</li></ol>\n"
      ],
      "text/latex": [
       "\\begin{enumerate*}\n",
       "\\item 8\n",
       "\\item 18\n",
       "\\item 15\n",
       "\\item 14\n",
       "\\end{enumerate*}\n"
      ],
      "text/markdown": [
       "1. 8\n",
       "2. 18\n",
       "3. 15\n",
       "4. 14\n",
       "\n",
       "\n"
      ],
      "text/plain": [
       "[1]  8 18 15 14"
      ]
     },
     "metadata": {},
     "output_type": "display_data"
    }
   ],
   "source": [
    "a = c(2 ,6, 3)\n",
    "b = c(4, 3, 5, 7)\n",
    "a*b"
   ]
  },
  {
   "cell_type": "markdown",
   "metadata": {},
   "source": [
    "**Learning:** <br/>\n",
    "- You can note that vector multiplication also occurs element-by-element like vector addition. R expects you to operate in vectors of similar lengths, but if you don’t, it uses the first element of vector a and multiplies it with the last remaining element (7 of vector b here). But as this is not proper recycling, R also issues a warning for this and not an error, so you may choose to ignore the warning and look at the output.\n",
    "\n",
    "- You can always add/subtract/multiply/divide two vectors of unequal length, in which recycling is done to perform the particular operation. If the length of larger vector is an integral multiple of the length of shorter vector, this is an example of complete recycling. If the length of the vector is not integral multiple, the operation still gets performed and command gets executed, but R shows a warning - \"longer object length is not a multiple of shorter object length\". But this should be fine, it's a warning, not an error. This is called **partial recycling**.\n"
   ]
  },
  {
   "cell_type": "markdown",
   "metadata": {},
   "source": [
    "## Swirl\n",
    "it is an interactive learning library designed to learn R.\n",
    "Swirl does not work on jupyter, use Rstudio."
   ]
  },
  {
   "cell_type": "code",
   "execution_count": 73,
   "metadata": {},
   "outputs": [
    {
     "name": "stderr",
     "output_type": "stream",
     "text": [
      "\n",
      "| Hi! I see that you have some variables saved in your workspace. To keep\n",
      "| things running smoothly, I recommend you clean up before starting swirl.\n",
      "\n",
      "| Type ls() to see a list of the variables in your workspace. Then, type\n",
      "| rm(list=ls()) to clear your workspace.\n",
      "\n",
      "| Type swirl() when you are ready to begin.\n",
      "\n",
      "\n"
     ]
    }
   ],
   "source": [
    "library(swirl)"
   ]
  },
  {
   "cell_type": "code",
   "execution_count": 81,
   "metadata": {},
   "outputs": [],
   "source": [
    "swirl()"
   ]
  },
  {
   "cell_type": "markdown",
   "metadata": {},
   "source": [
    "| When you are at the R prompt (>): <br>\n",
    "| -- Typing skip() allows you to skip the current question.<br>\n",
    "| -- Typing play() lets you experiment with R on your own; swirl will ignore what you <br>\n",
    "| do...<br>\n",
    "| -- UNTIL you type nxt() which will regain swirl's attention.<br>\n",
    "| -- Typing bye() causes swirl to exit. Your progress will be saved.<br>\n",
    "| -- Typing main() returns you to swirl's main menu.<br>\n",
    "| -- Typing info() displays these options again.<br>"
   ]
  },
  {
   "cell_type": "markdown",
   "metadata": {},
   "source": [
    "## Factors\n",
    "- The factor is a data type in R **used to categorise values** into discrete categories.\n",
    "- Factors are the data objects which are used to categorize the data and store it as levels.\n",
    "- Factors are the data objects which are used to categorize the data and store it as levels.\n",
    "- Factors are created using the **factor()** function by taking a vector as input.\n",
    "\n",
    "- For example, say a numeric vector to store the values of a **dice roll** is created:"
   ]
  },
  {
   "cell_type": "markdown",
   "metadata": {},
   "source": [
    "### Create Factor\n",
    "- to create factor for any data, use **factor()** function.\n",
    "- to check, if a object is a factor, use **is.factor()** function."
   ]
  },
  {
   "cell_type": "code",
   "execution_count": 142,
   "metadata": {},
   "outputs": [
    {
     "name": "stdout",
     "output_type": "stream",
     "text": [
      "[1] FALSE\n"
     ]
    }
   ],
   "source": [
    "dice  <-  c(1, 2, 4, 5, 5, 3, 2, 6, 3, 5, 6, 2, 1, 4, 3, 6, 5, 3, 2, 2, 5) \n",
    "print(is.factor(dice))"
   ]
  },
  {
   "cell_type": "markdown",
   "metadata": {},
   "source": [
    "Since there are only 6 possible values, one can convert the vector into 6-factor levels using a built-in function factor. "
   ]
  },
  {
   "cell_type": "code",
   "execution_count": 143,
   "metadata": {},
   "outputs": [
    {
     "data": {
      "text/html": [
       "<style>\n",
       ".list-inline {list-style: none; margin:0; padding: 0}\n",
       ".list-inline>li {display: inline-block}\n",
       ".list-inline>li:not(:last-child)::after {content: \"\\00b7\"; padding: 0 .5ex}\n",
       "</style>\n",
       "<ol class=list-inline><li>1</li><li>2</li><li>4</li><li>5</li><li>5</li><li>3</li><li>2</li><li>6</li><li>3</li><li>5</li><li>6</li><li>2</li><li>1</li><li>4</li><li>3</li><li>6</li><li>5</li><li>3</li><li>2</li><li>2</li><li>5</li></ol>\n",
       "\n",
       "<details>\n",
       "\t<summary style=display:list-item;cursor:pointer>\n",
       "\t\t<strong>Levels</strong>:\n",
       "\t</summary>\n",
       "\t<style>\n",
       "\t.list-inline {list-style: none; margin:0; padding: 0}\n",
       "\t.list-inline>li {display: inline-block}\n",
       "\t.list-inline>li:not(:last-child)::after {content: \"\\00b7\"; padding: 0 .5ex}\n",
       "\t</style>\n",
       "\t<ol class=list-inline><li>'1'</li><li>'2'</li><li>'3'</li><li>'4'</li><li>'5'</li><li>'6'</li></ol>\n",
       "</details>"
      ],
      "text/latex": [
       "\\begin{enumerate*}\n",
       "\\item 1\n",
       "\\item 2\n",
       "\\item 4\n",
       "\\item 5\n",
       "\\item 5\n",
       "\\item 3\n",
       "\\item 2\n",
       "\\item 6\n",
       "\\item 3\n",
       "\\item 5\n",
       "\\item 6\n",
       "\\item 2\n",
       "\\item 1\n",
       "\\item 4\n",
       "\\item 3\n",
       "\\item 6\n",
       "\\item 5\n",
       "\\item 3\n",
       "\\item 2\n",
       "\\item 2\n",
       "\\item 5\n",
       "\\end{enumerate*}\n",
       "\n",
       "\\emph{Levels}: \\begin{enumerate*}\n",
       "\\item '1'\n",
       "\\item '2'\n",
       "\\item '3'\n",
       "\\item '4'\n",
       "\\item '5'\n",
       "\\item '6'\n",
       "\\end{enumerate*}\n"
      ],
      "text/markdown": [
       "1. 1\n",
       "2. 2\n",
       "3. 4\n",
       "4. 5\n",
       "5. 5\n",
       "6. 3\n",
       "7. 2\n",
       "8. 6\n",
       "9. 3\n",
       "10. 5\n",
       "11. 6\n",
       "12. 2\n",
       "13. 1\n",
       "14. 4\n",
       "15. 3\n",
       "16. 6\n",
       "17. 5\n",
       "18. 3\n",
       "19. 2\n",
       "20. 2\n",
       "21. 5\n",
       "\n",
       "\n",
       "\n",
       "**Levels**: 1. '1'\n",
       "2. '2'\n",
       "3. '3'\n",
       "4. '4'\n",
       "5. '5'\n",
       "6. '6'\n",
       "\n",
       "\n"
      ],
      "text/plain": [
       " [1] 1 2 4 5 5 3 2 6 3 5 6 2 1 4 3 6 5 3 2 2 5\n",
       "Levels: 1 2 3 4 5 6"
      ]
     },
     "metadata": {},
     "output_type": "display_data"
    },
    {
     "name": "stdout",
     "output_type": "stream",
     "text": [
      "[1] TRUE\n"
     ]
    }
   ],
   "source": [
    "dice_levels <-  factor(dice)\n",
    "dice_levels\n",
    "print(is.factor(dice_levels))"
   ]
  },
  {
   "cell_type": "markdown",
   "metadata": {},
   "source": [
    "Usaually, there is confusion between character(string) and factor. Lets checkout:"
   ]
  },
  {
   "cell_type": "code",
   "execution_count": 144,
   "metadata": {},
   "outputs": [
    {
     "data": {
      "text/html": [
       "<style>\n",
       ".list-inline {list-style: none; margin:0; padding: 0}\n",
       ".list-inline>li {display: inline-block}\n",
       ".list-inline>li:not(:last-child)::after {content: \"\\00b7\"; padding: 0 .5ex}\n",
       "</style>\n",
       "<ol class=list-inline><li>'medium'</li><li>'short'</li><li>'short'</li><li>'tall'</li><li>'medium'</li><li>'medium'</li></ol>\n"
      ],
      "text/latex": [
       "\\begin{enumerate*}\n",
       "\\item 'medium'\n",
       "\\item 'short'\n",
       "\\item 'short'\n",
       "\\item 'tall'\n",
       "\\item 'medium'\n",
       "\\item 'medium'\n",
       "\\end{enumerate*}\n"
      ],
      "text/markdown": [
       "1. 'medium'\n",
       "2. 'short'\n",
       "3. 'short'\n",
       "4. 'tall'\n",
       "5. 'medium'\n",
       "6. 'medium'\n",
       "\n",
       "\n"
      ],
      "text/plain": [
       "[1] \"medium\" \"short\"  \"short\"  \"tall\"   \"medium\" \"medium\""
      ]
     },
     "metadata": {},
     "output_type": "display_data"
    },
    {
     "data": {
      "text/html": [
       "<style>\n",
       ".list-inline {list-style: none; margin:0; padding: 0}\n",
       ".list-inline>li {display: inline-block}\n",
       ".list-inline>li:not(:last-child)::after {content: \"\\00b7\"; padding: 0 .5ex}\n",
       "</style>\n",
       "<ol class=list-inline><li>'Ultra-short'</li><li>'short'</li><li>'short'</li><li>'tall'</li><li>'medium'</li><li>'medium'</li></ol>\n"
      ],
      "text/latex": [
       "\\begin{enumerate*}\n",
       "\\item 'Ultra-short'\n",
       "\\item 'short'\n",
       "\\item 'short'\n",
       "\\item 'tall'\n",
       "\\item 'medium'\n",
       "\\item 'medium'\n",
       "\\end{enumerate*}\n"
      ],
      "text/markdown": [
       "1. 'Ultra-short'\n",
       "2. 'short'\n",
       "3. 'short'\n",
       "4. 'tall'\n",
       "5. 'medium'\n",
       "6. 'medium'\n",
       "\n",
       "\n"
      ],
      "text/plain": [
       "[1] \"Ultra-short\" \"short\"       \"short\"       \"tall\"        \"medium\"     \n",
       "[6] \"medium\"     "
      ]
     },
     "metadata": {},
     "output_type": "display_data"
    }
   ],
   "source": [
    "hieghts <- c(\"medium\", \"short\", \"short\", \"tall\", \"medium\", \"medium\")\n",
    "hieghts\n",
    "hieghts[1] <- \"Ultra-short\"\n",
    "hieghts"
   ]
  },
  {
   "cell_type": "markdown",
   "metadata": {},
   "source": [
    "So its values in vector of string is changable"
   ]
  },
  {
   "cell_type": "code",
   "execution_count": 145,
   "metadata": {},
   "outputs": [
    {
     "data": {
      "text/html": [
       "<style>\n",
       ".list-inline {list-style: none; margin:0; padding: 0}\n",
       ".list-inline>li {display: inline-block}\n",
       ".list-inline>li:not(:last-child)::after {content: \"\\00b7\"; padding: 0 .5ex}\n",
       "</style>\n",
       "<ol class=list-inline><li>medium</li><li>short</li><li>short</li><li>tall</li><li>medium</li><li>medium</li></ol>\n",
       "\n",
       "<details>\n",
       "\t<summary style=display:list-item;cursor:pointer>\n",
       "\t\t<strong>Levels</strong>:\n",
       "\t</summary>\n",
       "\t<style>\n",
       "\t.list-inline {list-style: none; margin:0; padding: 0}\n",
       "\t.list-inline>li {display: inline-block}\n",
       "\t.list-inline>li:not(:last-child)::after {content: \"\\00b7\"; padding: 0 .5ex}\n",
       "\t</style>\n",
       "\t<ol class=list-inline><li>'medium'</li><li>'short'</li><li>'tall'</li></ol>\n",
       "</details>"
      ],
      "text/latex": [
       "\\begin{enumerate*}\n",
       "\\item medium\n",
       "\\item short\n",
       "\\item short\n",
       "\\item tall\n",
       "\\item medium\n",
       "\\item medium\n",
       "\\end{enumerate*}\n",
       "\n",
       "\\emph{Levels}: \\begin{enumerate*}\n",
       "\\item 'medium'\n",
       "\\item 'short'\n",
       "\\item 'tall'\n",
       "\\end{enumerate*}\n"
      ],
      "text/markdown": [
       "1. medium\n",
       "2. short\n",
       "3. short\n",
       "4. tall\n",
       "5. medium\n",
       "6. medium\n",
       "\n",
       "\n",
       "\n",
       "**Levels**: 1. 'medium'\n",
       "2. 'short'\n",
       "3. 'tall'\n",
       "\n",
       "\n"
      ],
      "text/plain": [
       "[1] medium short  short  tall   medium medium\n",
       "Levels: medium short tall"
      ]
     },
     "metadata": {},
     "output_type": "display_data"
    },
    {
     "data": {
      "text/html": [
       "<style>\n",
       ".list-inline {list-style: none; margin:0; padding: 0}\n",
       ".list-inline>li {display: inline-block}\n",
       ".list-inline>li:not(:last-child)::after {content: \"\\00b7\"; padding: 0 .5ex}\n",
       "</style>\n",
       "<ol class=list-inline><li>'medium'</li><li>'short'</li><li>'tall'</li></ol>\n"
      ],
      "text/latex": [
       "\\begin{enumerate*}\n",
       "\\item 'medium'\n",
       "\\item 'short'\n",
       "\\item 'tall'\n",
       "\\end{enumerate*}\n"
      ],
      "text/markdown": [
       "1. 'medium'\n",
       "2. 'short'\n",
       "3. 'tall'\n",
       "\n",
       "\n"
      ],
      "text/plain": [
       "[1] \"medium\" \"short\"  \"tall\"  "
      ]
     },
     "metadata": {},
     "output_type": "display_data"
    },
    {
     "data": {
      "text/html": [
       "<style>\n",
       ".dl-inline {width: auto; margin:0; padding: 0}\n",
       ".dl-inline>dt, .dl-inline>dd {float: none; width: auto; display: inline-block}\n",
       ".dl-inline>dt::after {content: \":\\0020\"; padding-right: .5ex}\n",
       ".dl-inline>dt:not(:first-of-type) {padding-left: .5ex}\n",
       "</style><dl class=dl-inline><dt>medium</dt><dd>3</dd><dt>short</dt><dd>2</dd><dt>tall</dt><dd>1</dd></dl>\n"
      ],
      "text/latex": [
       "\\begin{description*}\n",
       "\\item[medium] 3\n",
       "\\item[short] 2\n",
       "\\item[tall] 1\n",
       "\\end{description*}\n"
      ],
      "text/markdown": [
       "medium\n",
       ":   3short\n",
       ":   2tall\n",
       ":   1\n",
       "\n"
      ],
      "text/plain": [
       "medium  short   tall \n",
       "     3      2      1 "
      ]
     },
     "metadata": {},
     "output_type": "display_data"
    },
    {
     "name": "stderr",
     "output_type": "stream",
     "text": [
      "Warning message in `[<-.factor`(`*tmp*`, 1, value = \"Ultra-short\"):\n",
      "“invalid factor level, NA generated”\n"
     ]
    },
    {
     "data": {
      "text/html": [
       "<style>\n",
       ".list-inline {list-style: none; margin:0; padding: 0}\n",
       ".list-inline>li {display: inline-block}\n",
       ".list-inline>li:not(:last-child)::after {content: \"\\00b7\"; padding: 0 .5ex}\n",
       "</style>\n",
       "<ol class=list-inline><li>&lt;NA&gt;</li><li>short</li><li>short</li><li>tall</li><li>medium</li><li>medium</li></ol>\n",
       "\n",
       "<details>\n",
       "\t<summary style=display:list-item;cursor:pointer>\n",
       "\t\t<strong>Levels</strong>:\n",
       "\t</summary>\n",
       "\t<style>\n",
       "\t.list-inline {list-style: none; margin:0; padding: 0}\n",
       "\t.list-inline>li {display: inline-block}\n",
       "\t.list-inline>li:not(:last-child)::after {content: \"\\00b7\"; padding: 0 .5ex}\n",
       "\t</style>\n",
       "\t<ol class=list-inline><li>'medium'</li><li>'short'</li><li>'tall'</li></ol>\n",
       "</details>"
      ],
      "text/latex": [
       "\\begin{enumerate*}\n",
       "\\item <NA>\n",
       "\\item short\n",
       "\\item short\n",
       "\\item tall\n",
       "\\item medium\n",
       "\\item medium\n",
       "\\end{enumerate*}\n",
       "\n",
       "\\emph{Levels}: \\begin{enumerate*}\n",
       "\\item 'medium'\n",
       "\\item 'short'\n",
       "\\item 'tall'\n",
       "\\end{enumerate*}\n"
      ],
      "text/markdown": [
       "1. &lt;NA&gt;\n",
       "2. short\n",
       "3. short\n",
       "4. tall\n",
       "5. medium\n",
       "6. medium\n",
       "\n",
       "\n",
       "\n",
       "**Levels**: 1. 'medium'\n",
       "2. 'short'\n",
       "3. 'tall'\n",
       "\n",
       "\n"
      ],
      "text/plain": [
       "[1] <NA>   short  short  tall   medium medium\n",
       "Levels: medium short tall"
      ]
     },
     "metadata": {},
     "output_type": "display_data"
    },
    {
     "data": {
      "text/html": [
       "<style>\n",
       ".dl-inline {width: auto; margin:0; padding: 0}\n",
       ".dl-inline>dt, .dl-inline>dd {float: none; width: auto; display: inline-block}\n",
       ".dl-inline>dt::after {content: \":\\0020\"; padding-right: .5ex}\n",
       ".dl-inline>dt:not(:first-of-type) {padding-left: .5ex}\n",
       "</style><dl class=dl-inline><dt>medium</dt><dd>2</dd><dt>short</dt><dd>2</dd><dt>tall</dt><dd>1</dd><dt>NA's</dt><dd>1</dd></dl>\n"
      ],
      "text/latex": [
       "\\begin{description*}\n",
       "\\item[medium] 2\n",
       "\\item[short] 2\n",
       "\\item[tall] 1\n",
       "\\item[NA's] 1\n",
       "\\end{description*}\n"
      ],
      "text/markdown": [
       "medium\n",
       ":   2short\n",
       ":   2tall\n",
       ":   1NA's\n",
       ":   1\n",
       "\n"
      ],
      "text/plain": [
       "medium  short   tall   NA's \n",
       "     2      2      1      1 "
      ]
     },
     "metadata": {},
     "output_type": "display_data"
    }
   ],
   "source": [
    "#Converting vector into factors\n",
    "hieghts <- c(\"medium\", \"short\", \"short\", \"tall\", \"medium\", \"medium\")\n",
    "factor_hieghts <- factor(hieghts)\n",
    "factor_hieghts\n",
    "levels(factor_hieghts)\n",
    "summary(factor_hieghts)\n",
    "\n",
    "# try to change factor\n",
    "factor_hieghts[1] <- \"Ultra-short\"     #This will not work\n",
    "factor_hieghts\n",
    "summary(factor_hieghts)"
   ]
  },
  {
   "cell_type": "markdown",
   "metadata": {},
   "source": [
    "**Learning:**<br>\n",
    "Factor prevents invalid data from entering into the dataset, changing factor will not work and you will get extra invalid data category NAs for all such occurrences. that can be seen by **summary()** function but levels will not get changed."
   ]
  },
  {
   "cell_type": "code",
   "execution_count": null,
   "metadata": {},
   "outputs": [],
   "source": []
  },
  {
   "cell_type": "markdown",
   "metadata": {},
   "source": [
    "### Change order of levels\n",
    "Apply the factor function again with new order of the levels."
   ]
  },
  {
   "cell_type": "code",
   "execution_count": 112,
   "metadata": {
    "scrolled": true
   },
   "outputs": [
    {
     "data": {
      "text/html": [
       "<style>\n",
       ".list-inline {list-style: none; margin:0; padding: 0}\n",
       ".list-inline>li {display: inline-block}\n",
       ".list-inline>li:not(:last-child)::after {content: \"\\00b7\"; padding: 0 .5ex}\n",
       "</style>\n",
       "<ol class=list-inline><li>male</li><li>male</li><li>female</li><li>female</li><li>male</li><li>female</li><li>male</li></ol>\n",
       "\n",
       "<details>\n",
       "\t<summary style=display:list-item;cursor:pointer>\n",
       "\t\t<strong>Levels</strong>:\n",
       "\t</summary>\n",
       "\t<style>\n",
       "\t.list-inline {list-style: none; margin:0; padding: 0}\n",
       "\t.list-inline>li {display: inline-block}\n",
       "\t.list-inline>li:not(:last-child)::after {content: \"\\00b7\"; padding: 0 .5ex}\n",
       "\t</style>\n",
       "\t<ol class=list-inline><li>'female'</li><li>'male'</li></ol>\n",
       "</details>"
      ],
      "text/latex": [
       "\\begin{enumerate*}\n",
       "\\item male\n",
       "\\item male\n",
       "\\item female\n",
       "\\item female\n",
       "\\item male\n",
       "\\item female\n",
       "\\item male\n",
       "\\end{enumerate*}\n",
       "\n",
       "\\emph{Levels}: \\begin{enumerate*}\n",
       "\\item 'female'\n",
       "\\item 'male'\n",
       "\\end{enumerate*}\n"
      ],
      "text/markdown": [
       "1. male\n",
       "2. male\n",
       "3. female\n",
       "4. female\n",
       "5. male\n",
       "6. female\n",
       "7. male\n",
       "\n",
       "\n",
       "\n",
       "**Levels**: 1. 'female'\n",
       "2. 'male'\n",
       "\n",
       "\n"
      ],
      "text/plain": [
       "[1] male   male   female female male   female male  \n",
       "Levels: female male"
      ]
     },
     "metadata": {},
     "output_type": "display_data"
    },
    {
     "data": {
      "text/html": [
       "<style>\n",
       ".dl-inline {width: auto; margin:0; padding: 0}\n",
       ".dl-inline>dt, .dl-inline>dd {float: none; width: auto; display: inline-block}\n",
       ".dl-inline>dt::after {content: \":\\0020\"; padding-right: .5ex}\n",
       ".dl-inline>dt:not(:first-of-type) {padding-left: .5ex}\n",
       "</style><dl class=dl-inline><dt>male</dt><dd>4</dd><dt>female</dt><dd>3</dd></dl>\n"
      ],
      "text/latex": [
       "\\begin{description*}\n",
       "\\item[male] 4\n",
       "\\item[female] 3\n",
       "\\end{description*}\n"
      ],
      "text/markdown": [
       "male\n",
       ":   4female\n",
       ":   3\n",
       "\n"
      ],
      "text/plain": [
       "  male female \n",
       "     4      3 "
      ]
     },
     "metadata": {},
     "output_type": "display_data"
    },
    {
     "data": {
      "text/html": [
       "<style>\n",
       ".list-inline {list-style: none; margin:0; padding: 0}\n",
       ".list-inline>li {display: inline-block}\n",
       ".list-inline>li:not(:last-child)::after {content: \"\\00b7\"; padding: 0 .5ex}\n",
       "</style>\n",
       "<ol class=list-inline><li>male</li><li>male</li><li>female</li><li>female</li><li>male</li><li>female</li><li>male</li></ol>\n",
       "\n",
       "<details>\n",
       "\t<summary style=display:list-item;cursor:pointer>\n",
       "\t\t<strong>Levels</strong>:\n",
       "\t</summary>\n",
       "\t<style>\n",
       "\t.list-inline {list-style: none; margin:0; padding: 0}\n",
       "\t.list-inline>li {display: inline-block}\n",
       "\t.list-inline>li:not(:last-child)::after {content: \"\\00b7\"; padding: 0 .5ex}\n",
       "\t</style>\n",
       "\t<ol class=list-inline><li>'male'</li><li>'female'</li></ol>\n",
       "</details>"
      ],
      "text/latex": [
       "\\begin{enumerate*}\n",
       "\\item male\n",
       "\\item male\n",
       "\\item female\n",
       "\\item female\n",
       "\\item male\n",
       "\\item female\n",
       "\\item male\n",
       "\\end{enumerate*}\n",
       "\n",
       "\\emph{Levels}: \\begin{enumerate*}\n",
       "\\item 'male'\n",
       "\\item 'female'\n",
       "\\end{enumerate*}\n"
      ],
      "text/markdown": [
       "1. male\n",
       "2. male\n",
       "3. female\n",
       "4. female\n",
       "5. male\n",
       "6. female\n",
       "7. male\n",
       "\n",
       "\n",
       "\n",
       "**Levels**: 1. 'male'\n",
       "2. 'female'\n",
       "\n",
       "\n"
      ],
      "text/plain": [
       "[1] male   male   female female male   female male  \n",
       "Levels: male female"
      ]
     },
     "metadata": {},
     "output_type": "display_data"
    },
    {
     "data": {
      "text/html": [
       "<style>\n",
       ".dl-inline {width: auto; margin:0; padding: 0}\n",
       ".dl-inline>dt, .dl-inline>dd {float: none; width: auto; display: inline-block}\n",
       ".dl-inline>dt::after {content: \":\\0020\"; padding-right: .5ex}\n",
       ".dl-inline>dt:not(:first-of-type) {padding-left: .5ex}\n",
       "</style><dl class=dl-inline><dt>male</dt><dd>4</dd><dt>female</dt><dd>3</dd></dl>\n"
      ],
      "text/latex": [
       "\\begin{description*}\n",
       "\\item[male] 4\n",
       "\\item[female] 3\n",
       "\\end{description*}\n"
      ],
      "text/markdown": [
       "male\n",
       ":   4female\n",
       ":   3\n",
       "\n"
      ],
      "text/plain": [
       "  male female \n",
       "     4      3 "
      ]
     },
     "metadata": {},
     "output_type": "display_data"
    }
   ],
   "source": [
    "gender <- c(\"male\",\"male\",\"female\",\"female\",\"male\",\"female\",\"male\")\n",
    "fg <- factor(gender)\n",
    "fg\n",
    "summary(fgn)\n",
    "\n",
    "# change order\n",
    "fgn <- factor(fg, levels=c(\"male\", \"female\")) \n",
    "fgn\n",
    "summary(fgn)"
   ]
  },
  {
   "cell_type": "code",
   "execution_count": null,
   "metadata": {},
   "outputs": [],
   "source": []
  },
  {
   "cell_type": "markdown",
   "metadata": {},
   "source": [
    "### Generating Factor Levels\n",
    "We can generate factor levels by using the gl() function. It takes two integers as input which indicates how many levels and how many times each level.\n",
    "`gl(n, k, label_vector)`"
   ]
  },
  {
   "cell_type": "code",
   "execution_count": 116,
   "metadata": {},
   "outputs": [],
   "source": [
    "?gl"
   ]
  },
  {
   "cell_type": "markdown",
   "metadata": {},
   "source": [
    "gl(n, k, length = n*k, labels = seq_len(n), ordered = FALSE)\n",
    "n\t\n",
    "an integer giving the number of levels.\n",
    "\n",
    "k\t\n",
    "an integer giving the number of replications.\n",
    "\n",
    "length\t\n",
    "an integer giving the length of the result.\n",
    "\n",
    "labels\t\n",
    "an optional vector of labels for the resulting factor levels.\n",
    "\n",
    "ordered\t\n",
    "a logical indicating whether the result should be ordered or not."
   ]
  },
  {
   "cell_type": "code",
   "execution_count": 118,
   "metadata": {},
   "outputs": [
    {
     "name": "stdout",
     "output_type": "stream",
     "text": [
      " [1] bangalore bangalore bangalore bangalore mumbai    mumbai    mumbai   \n",
      " [8] mumbai    delhi     delhi     delhi     delhi    \n",
      "Levels: bangalore mumbai delhi\n"
     ]
    },
    {
     "data": {
      "text/html": [
       "<style>\n",
       ".dl-inline {width: auto; margin:0; padding: 0}\n",
       ".dl-inline>dt, .dl-inline>dd {float: none; width: auto; display: inline-block}\n",
       ".dl-inline>dt::after {content: \":\\0020\"; padding-right: .5ex}\n",
       ".dl-inline>dt:not(:first-of-type) {padding-left: .5ex}\n",
       "</style><dl class=dl-inline><dt>bangalore</dt><dd>4</dd><dt>mumbai</dt><dd>4</dd><dt>delhi</dt><dd>4</dd></dl>\n"
      ],
      "text/latex": [
       "\\begin{description*}\n",
       "\\item[bangalore] 4\n",
       "\\item[mumbai] 4\n",
       "\\item[delhi] 4\n",
       "\\end{description*}\n"
      ],
      "text/markdown": [
       "bangalore\n",
       ":   4mumbai\n",
       ":   4delhi\n",
       ":   4\n",
       "\n"
      ],
      "text/plain": [
       "bangalore    mumbai     delhi \n",
       "        4         4         4 "
      ]
     },
     "metadata": {},
     "output_type": "display_data"
    }
   ],
   "source": [
    "v <- gl(3, 4, labels = c(\"bangalore\", \"mumbai\",\"delhi\"))\n",
    "print(v)\n",
    "summary(v)"
   ]
  },
  {
   "cell_type": "code",
   "execution_count": null,
   "metadata": {},
   "outputs": [],
   "source": []
  },
  {
   "cell_type": "markdown",
   "metadata": {},
   "source": [
    "## Matrix\n",
    "\n",
    "The most basic two-dimensional data structure in R is called a matrix, with all elements in rows and columns having the same data-type. It’s time to learn about matrices.\n",
    "\n",
    "### Create Matrix\n",
    "- To create matrix, you have to call **matrix()** func."
   ]
  },
  {
   "cell_type": "code",
   "execution_count": 189,
   "metadata": {},
   "outputs": [
    {
     "data": {
      "text/html": [
       "<table class=\"dataframe\">\n",
       "<caption>A matrix: 3 × 3 of type int</caption>\n",
       "<tbody>\n",
       "\t<tr><td>1</td><td>2</td><td>3</td></tr>\n",
       "\t<tr><td>4</td><td>5</td><td>6</td></tr>\n",
       "\t<tr><td>7</td><td>8</td><td>9</td></tr>\n",
       "</tbody>\n",
       "</table>\n"
      ],
      "text/latex": [
       "A matrix: 3 × 3 of type int\n",
       "\\begin{tabular}{lll}\n",
       "\t 1 & 2 & 3\\\\\n",
       "\t 4 & 5 & 6\\\\\n",
       "\t 7 & 8 & 9\\\\\n",
       "\\end{tabular}\n"
      ],
      "text/markdown": [
       "\n",
       "A matrix: 3 × 3 of type int\n",
       "\n",
       "| 1 | 2 | 3 |\n",
       "| 4 | 5 | 6 |\n",
       "| 7 | 8 | 9 |\n",
       "\n"
      ],
      "text/plain": [
       "     [,1] [,2] [,3]\n",
       "[1,] 1    2    3   \n",
       "[2,] 4    5    6   \n",
       "[3,] 7    8    9   "
      ]
     },
     "metadata": {},
     "output_type": "display_data"
    },
    {
     "data": {
      "text/html": [
       "<table class=\"dataframe\">\n",
       "<caption>A matrix: 3 × 3 of type int</caption>\n",
       "<tbody>\n",
       "\t<tr><td>1</td><td>2</td><td>3</td></tr>\n",
       "\t<tr><td>4</td><td>5</td><td>6</td></tr>\n",
       "\t<tr><td>7</td><td>8</td><td>9</td></tr>\n",
       "</tbody>\n",
       "</table>\n"
      ],
      "text/latex": [
       "A matrix: 3 × 3 of type int\n",
       "\\begin{tabular}{lll}\n",
       "\t 1 & 2 & 3\\\\\n",
       "\t 4 & 5 & 6\\\\\n",
       "\t 7 & 8 & 9\\\\\n",
       "\\end{tabular}\n"
      ],
      "text/markdown": [
       "\n",
       "A matrix: 3 × 3 of type int\n",
       "\n",
       "| 1 | 2 | 3 |\n",
       "| 4 | 5 | 6 |\n",
       "| 7 | 8 | 9 |\n",
       "\n"
      ],
      "text/plain": [
       "     [,1] [,2] [,3]\n",
       "[1,] 1    2    3   \n",
       "[2,] 4    5    6   \n",
       "[3,] 7    8    9   "
      ]
     },
     "metadata": {},
     "output_type": "display_data"
    }
   ],
   "source": [
    "?matrix\n",
    "# Create matrix by sequence:\n",
    "matrix(1:9, byrow = TRUE, nrow = 3)\n",
    "matrix(1:9, byrow = TRUE, nrow = 3)"
   ]
  },
  {
   "cell_type": "code",
   "execution_count": 99,
   "metadata": {},
   "outputs": [
    {
     "data": {
      "text/html": [
       "<table class=\"dataframe\">\n",
       "<caption>A matrix: 3 × 6 of type dbl</caption>\n",
       "<tbody>\n",
       "\t<tr><td>3</td><td>1</td><td>5</td><td>7</td><td>6</td><td>1</td></tr>\n",
       "\t<tr><td>6</td><td>1</td><td>3</td><td>4</td><td>6</td><td>1</td></tr>\n",
       "\t<tr><td>2</td><td>1</td><td>4</td><td>2</td><td>2</td><td>5</td></tr>\n",
       "</tbody>\n",
       "</table>\n"
      ],
      "text/latex": [
       "A matrix: 3 × 6 of type dbl\n",
       "\\begin{tabular}{llllll}\n",
       "\t 3 & 1 & 5 & 7 & 6 & 1\\\\\n",
       "\t 6 & 1 & 3 & 4 & 6 & 1\\\\\n",
       "\t 2 & 1 & 4 & 2 & 2 & 5\\\\\n",
       "\\end{tabular}\n"
      ],
      "text/markdown": [
       "\n",
       "A matrix: 3 × 6 of type dbl\n",
       "\n",
       "| 3 | 1 | 5 | 7 | 6 | 1 |\n",
       "| 6 | 1 | 3 | 4 | 6 | 1 |\n",
       "| 2 | 1 | 4 | 2 | 2 | 5 |\n",
       "\n"
      ],
      "text/plain": [
       "     [,1] [,2] [,3] [,4] [,5] [,6]\n",
       "[1,] 3    1    5    7    6    1   \n",
       "[2,] 6    1    3    4    6    1   \n",
       "[3,] 2    1    4    2    2    5   "
      ]
     },
     "metadata": {},
     "output_type": "display_data"
    }
   ],
   "source": [
    "# Create matrix by combining vectors\n",
    "karan_dice <- c(3,1,5,7,6,1)\n",
    "raj_dice <- c(6,1,3,4,6,1)\n",
    "ajay_dice <- c(2,1,4,2,2,5)\n",
    "dice_vector <- c(karan_dice, raj_dice, ajay_dice)\n",
    "dice_matrix <- matrix(dice_vector, nrow = 3, byrow = TRUE)\n",
    "dice_matrix    "
   ]
  },
  {
   "cell_type": "code",
   "execution_count": null,
   "metadata": {},
   "outputs": [],
   "source": []
  },
  {
   "cell_type": "markdown",
   "metadata": {},
   "source": [
    "## DataFrame\n",
    "- Data Frames can have different data types along different columns, while in a matrix, all the columns have the same data type. You can assume dataframe as all the rows and coloumn in excel. \n",
    "- A data frame is a table or a two-dimensional array-like structure in which each column contains values of one variable and each row contains one set of values from each column.\n",
    "\n",
    "- Following are the characteristics of a data frame.\n",
    "    - column names should be non-empty.\n",
    "    - row names should be unique.\n",
    "    - data stored can be numeric, factor or character type.\n",
    "    - column should contain same number of data items."
   ]
  },
  {
   "cell_type": "markdown",
   "metadata": {},
   "source": [
    "### Create Dataframe"
   ]
  },
  {
   "cell_type": "code",
   "execution_count": 138,
   "metadata": {},
   "outputs": [
    {
     "name": "stdout",
     "output_type": "stream",
     "text": [
      "  height weight gender\n",
      "1    132     48   male\n",
      "2    151     49   male\n",
      "3    162     66 female\n",
      "4    139     53 female\n",
      "5    166     67   male\n",
      "6    147     52 female\n",
      "7    122     40   male\n"
     ]
    }
   ],
   "source": [
    "# Create the vectors for data frame.\n",
    "?data.frame\n",
    "\n",
    "height <- c(132,151,162,139,166,147,122)\n",
    "weight <- c(48,49,66,53,67,52,40)\n",
    "gender <- c(\"male\",\"male\",\"female\",\"female\",\"male\",\"female\",\"male\")\n",
    "\n",
    "# Create the data frame.\n",
    "df <- data.frame(height,weight,gender)\n",
    "print(df)"
   ]
  },
  {
   "cell_type": "markdown",
   "metadata": {},
   "source": [
    "### Structure of Dataframe/Object\n",
    "- The structure of the data frame can be seen by using str() function.\n",
    "- to know structure of any object use **str()** function.\n",
    "- it is most commonly used to know how the df or object is organized."
   ]
  },
  {
   "cell_type": "code",
   "execution_count": 139,
   "metadata": {},
   "outputs": [
    {
     "name": "stdout",
     "output_type": "stream",
     "text": [
      "'data.frame':\t7 obs. of  3 variables:\n",
      " $ height: num  132 151 162 139 166 147 122\n",
      " $ weight: num  48 49 66 53 67 52 40\n",
      " $ gender: chr  \"male\" \"male\" \"female\" \"female\" ...\n"
     ]
    }
   ],
   "source": [
    "?str\n",
    "str(df)"
   ]
  },
  {
   "cell_type": "markdown",
   "metadata": {},
   "source": [
    "### Summary of Dataframe/Object\n",
    "- to see statistical summary and nature of the data/object, use **summary()** function."
   ]
  },
  {
   "cell_type": "code",
   "execution_count": 141,
   "metadata": {},
   "outputs": [
    {
     "data": {
      "text/plain": [
       "     height          weight         gender         \n",
       " Min.   :122.0   Min.   :40.00   Length:7          \n",
       " 1st Qu.:135.5   1st Qu.:48.50   Class :character  \n",
       " Median :147.0   Median :52.00   Mode  :character  \n",
       " Mean   :145.6   Mean   :53.57                     \n",
       " 3rd Qu.:156.5   3rd Qu.:59.50                     \n",
       " Max.   :166.0   Max.   :67.00                     "
      ]
     },
     "metadata": {},
     "output_type": "display_data"
    }
   ],
   "source": [
    "?summary\n",
    "summary(df)"
   ]
  },
  {
   "cell_type": "code",
   "execution_count": 103,
   "metadata": {},
   "outputs": [
    {
     "name": "stdout",
     "output_type": "stream",
     "text": [
      "[1] FALSE\n",
      "[1] \"male\"   \"male\"   \"female\" \"female\" \"male\"   \"female\" \"male\"  \n"
     ]
    }
   ],
   "source": [
    "# Test if the gender column is a factor.\n",
    "print(is.factor(df$gender))\n",
    "\n",
    "# Print the gender column so see the levels.\n",
    "print(df$gender)"
   ]
  },
  {
   "cell_type": "markdown",
   "metadata": {},
   "source": [
    "**Note**<br>\n",
    "By default strings in vector is treated as characters not factor, if you want it to be treated as factor because you do not want to modify during df processing, set extra optional parameter `stringsAsFactors` to `True` or `T`or`TRUE`."
   ]
  },
  {
   "cell_type": "code",
   "execution_count": 137,
   "metadata": {},
   "outputs": [
    {
     "name": "stdout",
     "output_type": "stream",
     "text": [
      "  height weight gender\n",
      "1    132     48   male\n",
      "2    151     49   male\n",
      "3    162     66 female\n",
      "4    139     53 female\n",
      "5    166     67   male\n",
      "6    147     52 female\n",
      "7    122     40   male\n",
      "'data.frame':\t7 obs. of  3 variables:\n",
      " $ height: num  132 151 162 139 166 147 122\n",
      " $ weight: num  48 49 66 53 67 52 40\n",
      " $ gender: Factor w/ 2 levels \"female\",\"male\": 2 2 1 1 2 1 2\n"
     ]
    },
    {
     "data": {
      "text/html": [
       "<style>\n",
       ".list-inline {list-style: none; margin:0; padding: 0}\n",
       ".list-inline>li {display: inline-block}\n",
       ".list-inline>li:not(:last-child)::after {content: \"\\00b7\"; padding: 0 .5ex}\n",
       "</style>\n",
       "<ol class=list-inline><li>male</li><li>male</li><li>female</li><li>female</li><li>male</li><li>female</li><li>male</li></ol>\n",
       "\n",
       "<details>\n",
       "\t<summary style=display:list-item;cursor:pointer>\n",
       "\t\t<strong>Levels</strong>:\n",
       "\t</summary>\n",
       "\t<style>\n",
       "\t.list-inline {list-style: none; margin:0; padding: 0}\n",
       "\t.list-inline>li {display: inline-block}\n",
       "\t.list-inline>li:not(:last-child)::after {content: \"\\00b7\"; padding: 0 .5ex}\n",
       "\t</style>\n",
       "\t<ol class=list-inline><li>'female'</li><li>'male'</li></ol>\n",
       "</details>"
      ],
      "text/latex": [
       "\\begin{enumerate*}\n",
       "\\item male\n",
       "\\item male\n",
       "\\item female\n",
       "\\item female\n",
       "\\item male\n",
       "\\item female\n",
       "\\item male\n",
       "\\end{enumerate*}\n",
       "\n",
       "\\emph{Levels}: \\begin{enumerate*}\n",
       "\\item 'female'\n",
       "\\item 'male'\n",
       "\\end{enumerate*}\n"
      ],
      "text/markdown": [
       "1. male\n",
       "2. male\n",
       "3. female\n",
       "4. female\n",
       "5. male\n",
       "6. female\n",
       "7. male\n",
       "\n",
       "\n",
       "\n",
       "**Levels**: 1. 'female'\n",
       "2. 'male'\n",
       "\n",
       "\n"
      ],
      "text/plain": [
       "[1] male   male   female female male   female male  \n",
       "Levels: female male"
      ]
     },
     "metadata": {},
     "output_type": "display_data"
    }
   ],
   "source": [
    "factored_df <- data.frame(height,weight,gender, stringsAsFactors=\"T\")\n",
    "print(factored_df)\n",
    "\n",
    "# observe factors in df\n",
    "str(factored_df)\n",
    "factored_df$gender"
   ]
  },
  {
   "cell_type": "code",
   "execution_count": null,
   "metadata": {},
   "outputs": [],
   "source": []
  },
  {
   "cell_type": "markdown",
   "metadata": {},
   "source": [
    "### Access data from Dataframe\n",
    "- to extract specific data/column from dataframe,use column name.\n"
   ]
  },
  {
   "cell_type": "code",
   "execution_count": 152,
   "metadata": {},
   "outputs": [
    {
     "data": {
      "text/html": [
       "<style>\n",
       ".list-inline {list-style: none; margin:0; padding: 0}\n",
       ".list-inline>li {display: inline-block}\n",
       ".list-inline>li:not(:last-child)::after {content: \"\\00b7\"; padding: 0 .5ex}\n",
       "</style>\n",
       "<ol class=list-inline><li>132</li><li>151</li><li>162</li><li>139</li><li>166</li><li>147</li><li>122</li></ol>\n"
      ],
      "text/latex": [
       "\\begin{enumerate*}\n",
       "\\item 132\n",
       "\\item 151\n",
       "\\item 162\n",
       "\\item 139\n",
       "\\item 166\n",
       "\\item 147\n",
       "\\item 122\n",
       "\\end{enumerate*}\n"
      ],
      "text/markdown": [
       "1. 132\n",
       "2. 151\n",
       "3. 162\n",
       "4. 139\n",
       "5. 166\n",
       "6. 147\n",
       "7. 122\n",
       "\n",
       "\n"
      ],
      "text/plain": [
       "[1] 132 151 162 139 166 147 122"
      ]
     },
     "metadata": {},
     "output_type": "display_data"
    },
    {
     "data": {
      "text/html": [
       "151"
      ],
      "text/latex": [
       "151"
      ],
      "text/markdown": [
       "151"
      ],
      "text/plain": [
       "[1] 151"
      ]
     },
     "metadata": {},
     "output_type": "display_data"
    }
   ],
   "source": [
    "# access column\n",
    "df$height\n",
    "# access specific data element. A column is either a vector, factor or another df etc.\n",
    "df$height[2]"
   ]
  },
  {
   "cell_type": "code",
   "execution_count": 155,
   "metadata": {},
   "outputs": [
    {
     "data": {
      "text/html": [
       "<table class=\"dataframe\">\n",
       "<caption>A data.frame: 2 × 3</caption>\n",
       "<thead>\n",
       "\t<tr><th></th><th scope=col>height</th><th scope=col>weight</th><th scope=col>gender</th></tr>\n",
       "\t<tr><th></th><th scope=col>&lt;dbl&gt;</th><th scope=col>&lt;dbl&gt;</th><th scope=col>&lt;chr&gt;</th></tr>\n",
       "</thead>\n",
       "<tbody>\n",
       "\t<tr><th scope=row>3</th><td>162</td><td>66</td><td>female</td></tr>\n",
       "\t<tr><th scope=row>4</th><td>139</td><td>53</td><td>female</td></tr>\n",
       "</tbody>\n",
       "</table>\n"
      ],
      "text/latex": [
       "A data.frame: 2 × 3\n",
       "\\begin{tabular}{r|lll}\n",
       "  & height & weight & gender\\\\\n",
       "  & <dbl> & <dbl> & <chr>\\\\\n",
       "\\hline\n",
       "\t3 & 162 & 66 & female\\\\\n",
       "\t4 & 139 & 53 & female\\\\\n",
       "\\end{tabular}\n"
      ],
      "text/markdown": [
       "\n",
       "A data.frame: 2 × 3\n",
       "\n",
       "| <!--/--> | height &lt;dbl&gt; | weight &lt;dbl&gt; | gender &lt;chr&gt; |\n",
       "|---|---|---|---|\n",
       "| 3 | 162 | 66 | female |\n",
       "| 4 | 139 | 53 | female |\n",
       "\n"
      ],
      "text/plain": [
       "  height weight gender\n",
       "3 162    66     female\n",
       "4 139    53     female"
      ]
     },
     "metadata": {},
     "output_type": "display_data"
    }
   ],
   "source": [
    "# access 3rd & 4th rows, mind the comma after the range\n",
    "df[3:4,]"
   ]
  },
  {
   "cell_type": "code",
   "execution_count": 161,
   "metadata": {},
   "outputs": [
    {
     "data": {
      "text/html": [
       "<table class=\"dataframe\">\n",
       "<caption>A data.frame: 2 × 2</caption>\n",
       "<thead>\n",
       "\t<tr><th></th><th scope=col>height</th><th scope=col>weight</th></tr>\n",
       "\t<tr><th></th><th scope=col>&lt;dbl&gt;</th><th scope=col>&lt;dbl&gt;</th></tr>\n",
       "</thead>\n",
       "<tbody>\n",
       "\t<tr><th scope=row>2</th><td>151</td><td>49</td></tr>\n",
       "\t<tr><th scope=row>5</th><td>166</td><td>67</td></tr>\n",
       "</tbody>\n",
       "</table>\n"
      ],
      "text/latex": [
       "A data.frame: 2 × 2\n",
       "\\begin{tabular}{r|ll}\n",
       "  & height & weight\\\\\n",
       "  & <dbl> & <dbl>\\\\\n",
       "\\hline\n",
       "\t2 & 151 & 49\\\\\n",
       "\t5 & 166 & 67\\\\\n",
       "\\end{tabular}\n"
      ],
      "text/markdown": [
       "\n",
       "A data.frame: 2 × 2\n",
       "\n",
       "| <!--/--> | height &lt;dbl&gt; | weight &lt;dbl&gt; |\n",
       "|---|---|---|\n",
       "| 2 | 151 | 49 |\n",
       "| 5 | 166 | 67 |\n",
       "\n"
      ],
      "text/plain": [
       "  height weight\n",
       "2 151    49    \n",
       "5 166    67    "
      ]
     },
     "metadata": {},
     "output_type": "display_data"
    }
   ],
   "source": [
    "# extract specific column & rows\n",
    "# Extract 2nd and 5th row with 1nd and 3th column\n",
    "df[c(2,5),c(1,2)]"
   ]
  },
  {
   "cell_type": "markdown",
   "metadata": {},
   "source": [
    "### Expand Data Frame\n",
    "A data frame can be expanded by adding columns and rows.\n",
    "#### Add Column\n",
    "you can add column vector using new column name."
   ]
  },
  {
   "cell_type": "code",
   "execution_count": 180,
   "metadata": {},
   "outputs": [
    {
     "data": {
      "text/html": [
       "<table class=\"dataframe\">\n",
       "<caption>A data.frame: 7 × 4</caption>\n",
       "<thead>\n",
       "\t<tr><th scope=col>height</th><th scope=col>weight</th><th scope=col>gender</th><th scope=col>age</th></tr>\n",
       "\t<tr><th scope=col>&lt;dbl&gt;</th><th scope=col>&lt;dbl&gt;</th><th scope=col>&lt;chr&gt;</th><th scope=col>&lt;dbl&gt;</th></tr>\n",
       "</thead>\n",
       "<tbody>\n",
       "\t<tr><td>132</td><td>48</td><td>male  </td><td>11</td></tr>\n",
       "\t<tr><td>151</td><td>49</td><td>male  </td><td>41</td></tr>\n",
       "\t<tr><td>162</td><td>66</td><td>female</td><td>49</td></tr>\n",
       "\t<tr><td>139</td><td>53</td><td>female</td><td>27</td></tr>\n",
       "\t<tr><td>166</td><td>67</td><td>male  </td><td>73</td></tr>\n",
       "\t<tr><td>147</td><td>52</td><td>female</td><td> 2</td></tr>\n",
       "\t<tr><td>122</td><td>40</td><td>male  </td><td>72</td></tr>\n",
       "</tbody>\n",
       "</table>\n"
      ],
      "text/latex": [
       "A data.frame: 7 × 4\n",
       "\\begin{tabular}{llll}\n",
       " height & weight & gender & age\\\\\n",
       " <dbl> & <dbl> & <chr> & <dbl>\\\\\n",
       "\\hline\n",
       "\t 132 & 48 & male   & 11\\\\\n",
       "\t 151 & 49 & male   & 41\\\\\n",
       "\t 162 & 66 & female & 49\\\\\n",
       "\t 139 & 53 & female & 27\\\\\n",
       "\t 166 & 67 & male   & 73\\\\\n",
       "\t 147 & 52 & female &  2\\\\\n",
       "\t 122 & 40 & male   & 72\\\\\n",
       "\\end{tabular}\n"
      ],
      "text/markdown": [
       "\n",
       "A data.frame: 7 × 4\n",
       "\n",
       "| height &lt;dbl&gt; | weight &lt;dbl&gt; | gender &lt;chr&gt; | age &lt;dbl&gt; |\n",
       "|---|---|---|---|\n",
       "| 132 | 48 | male   | 11 |\n",
       "| 151 | 49 | male   | 41 |\n",
       "| 162 | 66 | female | 49 |\n",
       "| 139 | 53 | female | 27 |\n",
       "| 166 | 67 | male   | 73 |\n",
       "| 147 | 52 | female |  2 |\n",
       "| 122 | 40 | male   | 72 |\n",
       "\n"
      ],
      "text/plain": [
       "  height weight gender age\n",
       "1 132    48     male   11 \n",
       "2 151    49     male   41 \n",
       "3 162    66     female 49 \n",
       "4 139    53     female 27 \n",
       "5 166    67     male   73 \n",
       "6 147    52     female  2 \n",
       "7 122    40     male   72 "
      ]
     },
     "metadata": {},
     "output_type": "display_data"
    }
   ],
   "source": [
    "df$age <- c(floor(runif(1)*100), floor(runif(1)*100), floor(runif(1)*100), floor(runif(1)*100), floor(runif(1)*100), floor(runif(1)*100), floor(runif(1)*100))\n",
    "df"
   ]
  },
  {
   "cell_type": "markdown",
   "metadata": {},
   "source": [
    "#### Add Row\n",
    "to add row, create a dataframe with same structure and bind it using **rbind()** function"
   ]
  },
  {
   "cell_type": "code",
   "execution_count": 188,
   "metadata": {},
   "outputs": [
    {
     "name": "stdout",
     "output_type": "stream",
     "text": [
      "'data.frame':\t7 obs. of  4 variables:\n",
      " $ height: num  132 151 162 139 166 147 122\n",
      " $ weight: num  48 49 66 53 67 52 40\n",
      " $ gender: chr  \"male\" \"male\" \"female\" \"female\" ...\n",
      " $ age   : num  11 41 49 27 73 2 72\n"
     ]
    },
    {
     "data": {
      "text/html": [
       "<table class=\"dataframe\">\n",
       "<caption>A data.frame: 1 × 4</caption>\n",
       "<thead>\n",
       "\t<tr><th scope=col>height</th><th scope=col>weight</th><th scope=col>gender</th><th scope=col>age</th></tr>\n",
       "\t<tr><th scope=col>&lt;dbl&gt;</th><th scope=col>&lt;dbl&gt;</th><th scope=col>&lt;chr&gt;</th><th scope=col>&lt;dbl&gt;</th></tr>\n",
       "</thead>\n",
       "<tbody>\n",
       "\t<tr><td>154</td><td>34</td><td>female</td><td>33</td></tr>\n",
       "</tbody>\n",
       "</table>\n"
      ],
      "text/latex": [
       "A data.frame: 1 × 4\n",
       "\\begin{tabular}{llll}\n",
       " height & weight & gender & age\\\\\n",
       " <dbl> & <dbl> & <chr> & <dbl>\\\\\n",
       "\\hline\n",
       "\t 154 & 34 & female & 33\\\\\n",
       "\\end{tabular}\n"
      ],
      "text/markdown": [
       "\n",
       "A data.frame: 1 × 4\n",
       "\n",
       "| height &lt;dbl&gt; | weight &lt;dbl&gt; | gender &lt;chr&gt; | age &lt;dbl&gt; |\n",
       "|---|---|---|---|\n",
       "| 154 | 34 | female | 33 |\n",
       "\n"
      ],
      "text/plain": [
       "  height weight gender age\n",
       "1 154    34     female 33 "
      ]
     },
     "metadata": {},
     "output_type": "display_data"
    },
    {
     "data": {
      "text/html": [
       "<table class=\"dataframe\">\n",
       "<caption>A data.frame: 8 × 4</caption>\n",
       "<thead>\n",
       "\t<tr><th scope=col>height</th><th scope=col>weight</th><th scope=col>gender</th><th scope=col>age</th></tr>\n",
       "\t<tr><th scope=col>&lt;dbl&gt;</th><th scope=col>&lt;dbl&gt;</th><th scope=col>&lt;chr&gt;</th><th scope=col>&lt;dbl&gt;</th></tr>\n",
       "</thead>\n",
       "<tbody>\n",
       "\t<tr><td>132</td><td>48</td><td>male  </td><td>11</td></tr>\n",
       "\t<tr><td>151</td><td>49</td><td>male  </td><td>41</td></tr>\n",
       "\t<tr><td>162</td><td>66</td><td>female</td><td>49</td></tr>\n",
       "\t<tr><td>139</td><td>53</td><td>female</td><td>27</td></tr>\n",
       "\t<tr><td>166</td><td>67</td><td>male  </td><td>73</td></tr>\n",
       "\t<tr><td>147</td><td>52</td><td>female</td><td> 2</td></tr>\n",
       "\t<tr><td>122</td><td>40</td><td>male  </td><td>72</td></tr>\n",
       "\t<tr><td>154</td><td>34</td><td>female</td><td>33</td></tr>\n",
       "</tbody>\n",
       "</table>\n"
      ],
      "text/latex": [
       "A data.frame: 8 × 4\n",
       "\\begin{tabular}{llll}\n",
       " height & weight & gender & age\\\\\n",
       " <dbl> & <dbl> & <chr> & <dbl>\\\\\n",
       "\\hline\n",
       "\t 132 & 48 & male   & 11\\\\\n",
       "\t 151 & 49 & male   & 41\\\\\n",
       "\t 162 & 66 & female & 49\\\\\n",
       "\t 139 & 53 & female & 27\\\\\n",
       "\t 166 & 67 & male   & 73\\\\\n",
       "\t 147 & 52 & female &  2\\\\\n",
       "\t 122 & 40 & male   & 72\\\\\n",
       "\t 154 & 34 & female & 33\\\\\n",
       "\\end{tabular}\n"
      ],
      "text/markdown": [
       "\n",
       "A data.frame: 8 × 4\n",
       "\n",
       "| height &lt;dbl&gt; | weight &lt;dbl&gt; | gender &lt;chr&gt; | age &lt;dbl&gt; |\n",
       "|---|---|---|---|\n",
       "| 132 | 48 | male   | 11 |\n",
       "| 151 | 49 | male   | 41 |\n",
       "| 162 | 66 | female | 49 |\n",
       "| 139 | 53 | female | 27 |\n",
       "| 166 | 67 | male   | 73 |\n",
       "| 147 | 52 | female |  2 |\n",
       "| 122 | 40 | male   | 72 |\n",
       "| 154 | 34 | female | 33 |\n",
       "\n"
      ],
      "text/plain": [
       "  height weight gender age\n",
       "1 132    48     male   11 \n",
       "2 151    49     male   41 \n",
       "3 162    66     female 49 \n",
       "4 139    53     female 27 \n",
       "5 166    67     male   73 \n",
       "6 147    52     female  2 \n",
       "7 122    40     male   72 \n",
       "8 154    34     female 33 "
      ]
     },
     "metadata": {},
     "output_type": "display_data"
    }
   ],
   "source": [
    "str(df)\n",
    "df.new <- data.frame(\n",
    "    height = c(154),\n",
    "    weight = c(34),\n",
    "    gender = c(\"female\"),\n",
    "    age = c(33)\n",
    ")\n",
    "df.new\n",
    "df.combined <- rbind(df, df.new);\n",
    "df.combined"
   ]
  },
  {
   "cell_type": "code",
   "execution_count": 173,
   "metadata": {},
   "outputs": [],
   "source": [
    "?iris "
   ]
  },
  {
   "cell_type": "code",
   "execution_count": null,
   "metadata": {},
   "outputs": [],
   "source": [
    "r got lota of builtin datasets"
   ]
  },
  {
   "cell_type": "code",
   "execution_count": null,
   "metadata": {},
   "outputs": [],
   "source": [
    "str() - structure"
   ]
  },
  {
   "cell_type": "code",
   "execution_count": null,
   "metadata": {},
   "outputs": [],
   "source": [
    "stringsAsFactors=False"
   ]
  },
  {
   "cell_type": "code",
   "execution_count": 120,
   "metadata": {},
   "outputs": [
    {
     "data": {
      "text/html": [
       "FALSE"
      ],
      "text/latex": [
       "FALSE"
      ],
      "text/markdown": [
       "FALSE"
      ],
      "text/plain": [
       "[1] FALSE"
      ]
     },
     "metadata": {},
     "output_type": "display_data"
    }
   ],
   "source": [
    "default.stringsAsFactors()"
   ]
  },
  {
   "cell_type": "code",
   "execution_count": null,
   "metadata": {},
   "outputs": [],
   "source": []
  },
  {
   "cell_type": "code",
   "execution_count": null,
   "metadata": {},
   "outputs": [],
   "source": []
  },
  {
   "cell_type": "code",
   "execution_count": null,
   "metadata": {},
   "outputs": [],
   "source": []
  },
  {
   "cell_type": "code",
   "execution_count": null,
   "metadata": {},
   "outputs": [],
   "source": []
  },
  {
   "cell_type": "code",
   "execution_count": null,
   "metadata": {},
   "outputs": [],
   "source": []
  },
  {
   "cell_type": "code",
   "execution_count": null,
   "metadata": {},
   "outputs": [],
   "source": []
  }
 ],
 "metadata": {
  "kernelspec": {
   "display_name": "R",
   "language": "R",
   "name": "ir"
  },
  "language_info": {
   "codemirror_mode": "r",
   "file_extension": ".r",
   "mimetype": "text/x-r-source",
   "name": "R",
   "pygments_lexer": "r",
   "version": "4.0.3"
  },
  "toc": {
   "base_numbering": 1,
   "nav_menu": {},
   "number_sections": true,
   "sideBar": true,
   "skip_h1_title": false,
   "title_cell": "Table of Contents",
   "title_sidebar": "Contents",
   "toc_cell": true,
   "toc_position": {
    "height": "calc(100% - 180px)",
    "left": "10px",
    "top": "150px",
    "width": "238px"
   },
   "toc_section_display": true,
   "toc_window_display": true
  }
 },
 "nbformat": 4,
 "nbformat_minor": 4
}
